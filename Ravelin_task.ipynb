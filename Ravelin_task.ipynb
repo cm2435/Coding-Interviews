{
  "nbformat": 4,
  "nbformat_minor": 0,
  "metadata": {
    "colab": {
      "name": "Ravelin_task.ipynb",
      "provenance": [],
      "collapsed_sections": [],
      "authorship_tag": "ABX9TyPusQw2smi8r5G/J7EeJFkA",
      "include_colab_link": true
    },
    "kernelspec": {
      "display_name": "Python 3",
      "name": "python3"
    },
    "language_info": {
      "name": "python"
    }
  },
  "cells": [
    {
      "cell_type": "markdown",
      "metadata": {
        "id": "view-in-github",
        "colab_type": "text"
      },
      "source": [
        "<a href=\"https://colab.research.google.com/github/cm2435/Coding-Interviews/blob/main/Ravelin_task.ipynb\" target=\"_parent\"><img src=\"https://colab.research.google.com/assets/colab-badge.svg\" alt=\"Open In Colab\"/></a>"
      ]
    },
    {
      "cell_type": "markdown",
      "metadata": {
        "id": "dOH86uRYB-RR"
      },
      "source": [
        "# Producing Dataframe of features for EDA from the JSON file "
      ]
    },
    {
      "cell_type": "code",
      "metadata": {
        "id": "sj6hwPUo3Bm7",
        "colab": {
          "base_uri": "https://localhost:8080/"
        },
        "outputId": "cf60c679-f1bb-4254-a176-f27191d27c9d"
      },
      "source": [
        "!wget https://github.com/unravelin/code-test-data-science/blob/master/customers.json"
      ],
      "execution_count": 388,
      "outputs": [
        {
          "output_type": "stream",
          "text": [
            "--2021-03-30 22:50:14--  https://github.com/unravelin/code-test-data-science/blob/master/customers.json\n",
            "Resolving github.com (github.com)... 140.82.121.4\n",
            "Connecting to github.com (github.com)|140.82.121.4|:443... connected.\n",
            "HTTP request sent, awaiting response... 200 OK\n",
            "Length: unspecified [text/html]\n",
            "Saving to: ‘customers.json.7’\n",
            "\n",
            "customers.json.7        [ <=>                ] 649.96K  --.-KB/s    in 0.04s   \n",
            "\n",
            "2021-03-30 22:50:14 (14.3 MB/s) - ‘customers.json.7’ saved [665555]\n",
            "\n"
          ],
          "name": "stdout"
        }
      ]
    },
    {
      "cell_type": "code",
      "metadata": {
        "id": "z6XaOKi422xj"
      },
      "source": [
        "import pandas as pd\n",
        "import numpy as np\n",
        "import sklearn as sk \n",
        "\n",
        "import requests\n",
        "from pandas.io.json import json_normalize\n",
        "import json\n",
        "\n",
        "from numpy import mean\n",
        "from sklearn.datasets import make_classification\n",
        "from sklearn.model_selection import cross_val_score\n",
        "from sklearn.model_selection import RepeatedStratifiedKFold\n",
        "from xgboost import XGBClassifier\n",
        "\n",
        "from sklearn.model_selection import train_test_split\n",
        "\n",
        "%matplotlib inline\n",
        "from xgboost import plot_importance\n",
        "import matplotlib.pyplot as plt\n",
        "import seaborn as sns\n",
        "\n",
        "from sklearn.metrics import accuracy_score\n",
        "from sklearn import metrics\n",
        "from sklearn.metrics import plot_confusion_matrix\n",
        "\n",
        "from sklearn.datasets import load_iris\n",
        "from sklearn.model_selection import train_test_split\n",
        "from sklearn.naive_bayes import GaussianNB\n"
      ],
      "execution_count": 389,
      "outputs": []
    },
    {
      "cell_type": "code",
      "metadata": {
        "id": "Aa46UJro3F-A",
        "colab": {
          "base_uri": "https://localhost:8080/",
          "height": 195
        },
        "outputId": "c66c31f0-5546-45aa-aac5-33b636e4edfb"
      },
      "source": [
        "#load in the data, I put it in local folder instead of using the WGET downloaded file from github because of issues with JSON.\n",
        "data = pd.read_json(\"/content/test.json\", lines= True)\n",
        "data.head(5)"
      ],
      "execution_count": 390,
      "outputs": [
        {
          "output_type": "execute_result",
          "data": {
            "text/html": [
              "<div>\n",
              "<style scoped>\n",
              "    .dataframe tbody tr th:only-of-type {\n",
              "        vertical-align: middle;\n",
              "    }\n",
              "\n",
              "    .dataframe tbody tr th {\n",
              "        vertical-align: top;\n",
              "    }\n",
              "\n",
              "    .dataframe thead th {\n",
              "        text-align: right;\n",
              "    }\n",
              "</style>\n",
              "<table border=\"1\" class=\"dataframe\">\n",
              "  <thead>\n",
              "    <tr style=\"text-align: right;\">\n",
              "      <th></th>\n",
              "      <th>fraudulent</th>\n",
              "      <th>customer</th>\n",
              "      <th>orders</th>\n",
              "      <th>paymentMethods</th>\n",
              "      <th>transactions</th>\n",
              "    </tr>\n",
              "  </thead>\n",
              "  <tbody>\n",
              "    <tr>\n",
              "      <th>0</th>\n",
              "      <td>False</td>\n",
              "      <td>{'customerEmail': 'josephhoward@yahoo.com', 'c...</td>\n",
              "      <td>[{'orderId': 'vjbdvd', 'orderAmount': 18, 'ord...</td>\n",
              "      <td>[{'paymentMethodId': 'wt07xm68b', 'paymentMeth...</td>\n",
              "      <td>[{'transactionId': 'a9lcj51r', 'orderId': 'vjb...</td>\n",
              "    </tr>\n",
              "    <tr>\n",
              "      <th>1</th>\n",
              "      <td>True</td>\n",
              "      <td>{'customerEmail': 'evansjeffery@yahoo.com', 'c...</td>\n",
              "      <td>[{'orderId': 'nlghpa', 'orderAmount': 45, 'ord...</td>\n",
              "      <td>[{'paymentMethodId': 'y3xp697jx', 'paymentMeth...</td>\n",
              "      <td>[{'transactionId': '5mi94sfw', 'orderId': 'nlg...</td>\n",
              "    </tr>\n",
              "    <tr>\n",
              "      <th>2</th>\n",
              "      <td>False</td>\n",
              "      <td>{'customerEmail': 'andersonwilliam@yahoo.com',...</td>\n",
              "      <td>[{'orderId': 'yk34y2', 'orderAmount': 33, 'ord...</td>\n",
              "      <td>[{'paymentMethodId': '8pneoi03z', 'paymentMeth...</td>\n",
              "      <td>[{'transactionId': 'q3lyvbza', 'orderId': 'yk3...</td>\n",
              "    </tr>\n",
              "    <tr>\n",
              "      <th>3</th>\n",
              "      <td>False</td>\n",
              "      <td>{'customerEmail': 'rubenjuarez@yahoo.com', 'cu...</td>\n",
              "      <td>[{'orderId': 'fbz9ep', 'orderAmount': 34, 'ord...</td>\n",
              "      <td>[{'paymentMethodId': 'pdxjdwui4', 'paymentMeth...</td>\n",
              "      <td>[{'transactionId': 'vx4cjc27', 'orderId': 'fbz...</td>\n",
              "    </tr>\n",
              "    <tr>\n",
              "      <th>4</th>\n",
              "      <td>True</td>\n",
              "      <td>{'customerEmail': 'uchen@malone.com', 'custome...</td>\n",
              "      <td>[{'orderId': '56h7iw', 'orderAmount': 71, 'ord...</td>\n",
              "      <td>[{'paymentMethodId': 'w1i1zq3rg', 'paymentMeth...</td>\n",
              "      <td>[{'transactionId': 'q8j3dgni', 'orderId': '56h...</td>\n",
              "    </tr>\n",
              "  </tbody>\n",
              "</table>\n",
              "</div>"
            ],
            "text/plain": [
              "   fraudulent  ...                                       transactions\n",
              "0       False  ...  [{'transactionId': 'a9lcj51r', 'orderId': 'vjb...\n",
              "1        True  ...  [{'transactionId': '5mi94sfw', 'orderId': 'nlg...\n",
              "2       False  ...  [{'transactionId': 'q3lyvbza', 'orderId': 'yk3...\n",
              "3       False  ...  [{'transactionId': 'vx4cjc27', 'orderId': 'fbz...\n",
              "4        True  ...  [{'transactionId': 'q8j3dgni', 'orderId': '56h...\n",
              "\n",
              "[5 rows x 5 columns]"
            ]
          },
          "metadata": {
            "tags": []
          },
          "execution_count": 390
        }
      ]
    },
    {
      "cell_type": "code",
      "metadata": {
        "id": "OPQRU8pzM-YW"
      },
      "source": [
        "def flatten_json(nested_json: dict, exclude: list=[''], sep: str='_') -> dict:\n",
        "    \"\"\"\n",
        "    Flatten a list of nested dicts.\n",
        "    \"\"\"\n",
        "    out = dict()\n",
        "    def flatten(x: (list, dict, str), name: str='', exclude=exclude):\n",
        "        if type(x) is dict:\n",
        "            for a in x:\n",
        "                if a not in exclude:\n",
        "                    flatten(x[a], f'{name}{a}{sep}')\n",
        "        elif type(x) is list:\n",
        "            i = 0\n",
        "            for a in x:\n",
        "                flatten(a, f'{name}{i}{sep}')\n",
        "                i += 1\n",
        "        else:\n",
        "            out[name[:-1]] = x\n",
        "\n",
        "    flatten(nested_json)\n",
        "    return out"
      ],
      "execution_count": 391,
      "outputs": []
    },
    {
      "cell_type": "code",
      "metadata": {
        "id": "7tjTqJnBk3w7"
      },
      "source": [
        "orders = pd.DataFrame([flatten_json(x) for x in data['orders']])\n",
        "customers = pd.DataFrame([flatten_json(x) for x in data['customer']])\n",
        "payment_method = pd.DataFrame([flatten_json(x) for x in data['paymentMethods']])\n",
        "transactions = pd.DataFrame([flatten_json(x) for x in data['transactions']])\n",
        "fraudulent = data['fraudulent']"
      ],
      "execution_count": 392,
      "outputs": []
    },
    {
      "cell_type": "code",
      "metadata": {
        "id": "F9D9AfsCp9hL",
        "colab": {
          "base_uri": "https://localhost:8080/",
          "height": 286
        },
        "outputId": "a738864a-ae83-4de6-9ae0-f54769dab120"
      },
      "source": [
        "#Applying the flatten json so that all features can be concated to one dataframe for usage\n",
        "\n",
        "combined_data = pd.concat([orders, customers, payment_method, transactions, fraudulent], axis=1)\n",
        "combined_data.head(3)"
      ],
      "execution_count": 393,
      "outputs": [
        {
          "output_type": "execute_result",
          "data": {
            "text/html": [
              "<div>\n",
              "<style scoped>\n",
              "    .dataframe tbody tr th:only-of-type {\n",
              "        vertical-align: middle;\n",
              "    }\n",
              "\n",
              "    .dataframe tbody tr th {\n",
              "        vertical-align: top;\n",
              "    }\n",
              "\n",
              "    .dataframe thead th {\n",
              "        text-align: right;\n",
              "    }\n",
              "</style>\n",
              "<table border=\"1\" class=\"dataframe\">\n",
              "  <thead>\n",
              "    <tr style=\"text-align: right;\">\n",
              "      <th></th>\n",
              "      <th>0_orderId</th>\n",
              "      <th>0_orderAmount</th>\n",
              "      <th>0_orderState</th>\n",
              "      <th>0_orderShippingAddress</th>\n",
              "      <th>1_orderId</th>\n",
              "      <th>1_orderAmount</th>\n",
              "      <th>1_orderState</th>\n",
              "      <th>1_orderShippingAddress</th>\n",
              "      <th>2_orderId</th>\n",
              "      <th>2_orderAmount</th>\n",
              "      <th>2_orderState</th>\n",
              "      <th>2_orderShippingAddress</th>\n",
              "      <th>3_orderId</th>\n",
              "      <th>3_orderAmount</th>\n",
              "      <th>3_orderState</th>\n",
              "      <th>3_orderShippingAddress</th>\n",
              "      <th>4_orderId</th>\n",
              "      <th>4_orderAmount</th>\n",
              "      <th>4_orderState</th>\n",
              "      <th>4_orderShippingAddress</th>\n",
              "      <th>5_orderId</th>\n",
              "      <th>5_orderAmount</th>\n",
              "      <th>5_orderState</th>\n",
              "      <th>5_orderShippingAddress</th>\n",
              "      <th>6_orderId</th>\n",
              "      <th>6_orderAmount</th>\n",
              "      <th>6_orderState</th>\n",
              "      <th>6_orderShippingAddress</th>\n",
              "      <th>7_orderId</th>\n",
              "      <th>7_orderAmount</th>\n",
              "      <th>7_orderState</th>\n",
              "      <th>7_orderShippingAddress</th>\n",
              "      <th>customerEmail</th>\n",
              "      <th>customerPhone</th>\n",
              "      <th>customerDevice</th>\n",
              "      <th>customerIPAddress</th>\n",
              "      <th>customerBillingAddress</th>\n",
              "      <th>0_paymentMethodId</th>\n",
              "      <th>0_paymentMethodRegistrationFailure</th>\n",
              "      <th>0_paymentMethodType</th>\n",
              "      <th>...</th>\n",
              "      <th>7_orderId</th>\n",
              "      <th>7_paymentMethodId</th>\n",
              "      <th>7_transactionAmount</th>\n",
              "      <th>7_transactionFailed</th>\n",
              "      <th>8_transactionId</th>\n",
              "      <th>8_orderId</th>\n",
              "      <th>8_paymentMethodId</th>\n",
              "      <th>8_transactionAmount</th>\n",
              "      <th>8_transactionFailed</th>\n",
              "      <th>9_transactionId</th>\n",
              "      <th>9_orderId</th>\n",
              "      <th>9_paymentMethodId</th>\n",
              "      <th>9_transactionAmount</th>\n",
              "      <th>9_transactionFailed</th>\n",
              "      <th>10_transactionId</th>\n",
              "      <th>10_orderId</th>\n",
              "      <th>10_paymentMethodId</th>\n",
              "      <th>10_transactionAmount</th>\n",
              "      <th>10_transactionFailed</th>\n",
              "      <th>11_transactionId</th>\n",
              "      <th>11_orderId</th>\n",
              "      <th>11_paymentMethodId</th>\n",
              "      <th>11_transactionAmount</th>\n",
              "      <th>11_transactionFailed</th>\n",
              "      <th>12_transactionId</th>\n",
              "      <th>12_orderId</th>\n",
              "      <th>12_paymentMethodId</th>\n",
              "      <th>12_transactionAmount</th>\n",
              "      <th>12_transactionFailed</th>\n",
              "      <th>13_transactionId</th>\n",
              "      <th>13_orderId</th>\n",
              "      <th>13_paymentMethodId</th>\n",
              "      <th>13_transactionAmount</th>\n",
              "      <th>13_transactionFailed</th>\n",
              "      <th>14_transactionId</th>\n",
              "      <th>14_orderId</th>\n",
              "      <th>14_paymentMethodId</th>\n",
              "      <th>14_transactionAmount</th>\n",
              "      <th>14_transactionFailed</th>\n",
              "      <th>fraudulent</th>\n",
              "    </tr>\n",
              "  </thead>\n",
              "  <tbody>\n",
              "    <tr>\n",
              "      <th>0</th>\n",
              "      <td>vjbdvd</td>\n",
              "      <td>18.0</td>\n",
              "      <td>pending</td>\n",
              "      <td>5493 Jones Islands\\nBrownside, CA 51896</td>\n",
              "      <td>yp6x27</td>\n",
              "      <td>26.0</td>\n",
              "      <td>fulfilled</td>\n",
              "      <td>5493 Jones Islands\\nBrownside, CA 51896</td>\n",
              "      <td>NaN</td>\n",
              "      <td>NaN</td>\n",
              "      <td>NaN</td>\n",
              "      <td>NaN</td>\n",
              "      <td>NaN</td>\n",
              "      <td>NaN</td>\n",
              "      <td>NaN</td>\n",
              "      <td>NaN</td>\n",
              "      <td>NaN</td>\n",
              "      <td>NaN</td>\n",
              "      <td>NaN</td>\n",
              "      <td>NaN</td>\n",
              "      <td>NaN</td>\n",
              "      <td>NaN</td>\n",
              "      <td>NaN</td>\n",
              "      <td>NaN</td>\n",
              "      <td>NaN</td>\n",
              "      <td>NaN</td>\n",
              "      <td>NaN</td>\n",
              "      <td>NaN</td>\n",
              "      <td>NaN</td>\n",
              "      <td>NaN</td>\n",
              "      <td>NaN</td>\n",
              "      <td>NaN</td>\n",
              "      <td>josephhoward@yahoo.com</td>\n",
              "      <td>400-108-5415</td>\n",
              "      <td>yyeiaxpltf82440jnb3v</td>\n",
              "      <td>8.129.104.40</td>\n",
              "      <td>5493 Jones Islands\\nBrownside, CA 51896</td>\n",
              "      <td>wt07xm68b</td>\n",
              "      <td>True</td>\n",
              "      <td>card</td>\n",
              "      <td>...</td>\n",
              "      <td>NaN</td>\n",
              "      <td>NaN</td>\n",
              "      <td>NaN</td>\n",
              "      <td>NaN</td>\n",
              "      <td>NaN</td>\n",
              "      <td>NaN</td>\n",
              "      <td>NaN</td>\n",
              "      <td>NaN</td>\n",
              "      <td>NaN</td>\n",
              "      <td>NaN</td>\n",
              "      <td>NaN</td>\n",
              "      <td>NaN</td>\n",
              "      <td>NaN</td>\n",
              "      <td>NaN</td>\n",
              "      <td>NaN</td>\n",
              "      <td>NaN</td>\n",
              "      <td>NaN</td>\n",
              "      <td>NaN</td>\n",
              "      <td>NaN</td>\n",
              "      <td>NaN</td>\n",
              "      <td>NaN</td>\n",
              "      <td>NaN</td>\n",
              "      <td>NaN</td>\n",
              "      <td>NaN</td>\n",
              "      <td>NaN</td>\n",
              "      <td>NaN</td>\n",
              "      <td>NaN</td>\n",
              "      <td>NaN</td>\n",
              "      <td>NaN</td>\n",
              "      <td>NaN</td>\n",
              "      <td>NaN</td>\n",
              "      <td>NaN</td>\n",
              "      <td>NaN</td>\n",
              "      <td>NaN</td>\n",
              "      <td>NaN</td>\n",
              "      <td>NaN</td>\n",
              "      <td>NaN</td>\n",
              "      <td>NaN</td>\n",
              "      <td>NaN</td>\n",
              "      <td>False</td>\n",
              "    </tr>\n",
              "    <tr>\n",
              "      <th>1</th>\n",
              "      <td>nlghpa</td>\n",
              "      <td>45.0</td>\n",
              "      <td>fulfilled</td>\n",
              "      <td>898 Henry Ports\\nNew Keithview, CA 95893-2497</td>\n",
              "      <td>uw0eeb</td>\n",
              "      <td>23.0</td>\n",
              "      <td>fulfilled</td>\n",
              "      <td>356 Elizabeth Inlet Suite 120\\nPort Joshuabury...</td>\n",
              "      <td>bn44oh</td>\n",
              "      <td>43.0</td>\n",
              "      <td>fulfilled</td>\n",
              "      <td>5093 Bryan Forks\\nJoshuaton, FM 01565-9801</td>\n",
              "      <td>NaN</td>\n",
              "      <td>NaN</td>\n",
              "      <td>NaN</td>\n",
              "      <td>NaN</td>\n",
              "      <td>NaN</td>\n",
              "      <td>NaN</td>\n",
              "      <td>NaN</td>\n",
              "      <td>NaN</td>\n",
              "      <td>NaN</td>\n",
              "      <td>NaN</td>\n",
              "      <td>NaN</td>\n",
              "      <td>NaN</td>\n",
              "      <td>NaN</td>\n",
              "      <td>NaN</td>\n",
              "      <td>NaN</td>\n",
              "      <td>NaN</td>\n",
              "      <td>NaN</td>\n",
              "      <td>NaN</td>\n",
              "      <td>NaN</td>\n",
              "      <td>NaN</td>\n",
              "      <td>evansjeffery@yahoo.com</td>\n",
              "      <td>1-788-091-7546</td>\n",
              "      <td>r0jpm7xaeqqa3kr6mzum</td>\n",
              "      <td>219.173.211.202</td>\n",
              "      <td>356 Elizabeth Inlet Suite 120\\nPort Joshuabury...</td>\n",
              "      <td>y3xp697jx</td>\n",
              "      <td>True</td>\n",
              "      <td>bitcoin</td>\n",
              "      <td>...</td>\n",
              "      <td>NaN</td>\n",
              "      <td>NaN</td>\n",
              "      <td>NaN</td>\n",
              "      <td>NaN</td>\n",
              "      <td>NaN</td>\n",
              "      <td>NaN</td>\n",
              "      <td>NaN</td>\n",
              "      <td>NaN</td>\n",
              "      <td>NaN</td>\n",
              "      <td>NaN</td>\n",
              "      <td>NaN</td>\n",
              "      <td>NaN</td>\n",
              "      <td>NaN</td>\n",
              "      <td>NaN</td>\n",
              "      <td>NaN</td>\n",
              "      <td>NaN</td>\n",
              "      <td>NaN</td>\n",
              "      <td>NaN</td>\n",
              "      <td>NaN</td>\n",
              "      <td>NaN</td>\n",
              "      <td>NaN</td>\n",
              "      <td>NaN</td>\n",
              "      <td>NaN</td>\n",
              "      <td>NaN</td>\n",
              "      <td>NaN</td>\n",
              "      <td>NaN</td>\n",
              "      <td>NaN</td>\n",
              "      <td>NaN</td>\n",
              "      <td>NaN</td>\n",
              "      <td>NaN</td>\n",
              "      <td>NaN</td>\n",
              "      <td>NaN</td>\n",
              "      <td>NaN</td>\n",
              "      <td>NaN</td>\n",
              "      <td>NaN</td>\n",
              "      <td>NaN</td>\n",
              "      <td>NaN</td>\n",
              "      <td>NaN</td>\n",
              "      <td>NaN</td>\n",
              "      <td>True</td>\n",
              "    </tr>\n",
              "    <tr>\n",
              "      <th>2</th>\n",
              "      <td>yk34y2</td>\n",
              "      <td>33.0</td>\n",
              "      <td>failed</td>\n",
              "      <td>8478 Sean Ridges Apt. 441\\nDavisberg, PR 72250</td>\n",
              "      <td>28v6b0</td>\n",
              "      <td>24.0</td>\n",
              "      <td>fulfilled</td>\n",
              "      <td>8478 Sean Ridges Apt. 441\\nDavisberg, PR 72250</td>\n",
              "      <td>itnk8y</td>\n",
              "      <td>25.0</td>\n",
              "      <td>fulfilled</td>\n",
              "      <td>22396 Victor Lights\\nCarsonstad, MO 93914</td>\n",
              "      <td>NaN</td>\n",
              "      <td>NaN</td>\n",
              "      <td>NaN</td>\n",
              "      <td>NaN</td>\n",
              "      <td>NaN</td>\n",
              "      <td>NaN</td>\n",
              "      <td>NaN</td>\n",
              "      <td>NaN</td>\n",
              "      <td>NaN</td>\n",
              "      <td>NaN</td>\n",
              "      <td>NaN</td>\n",
              "      <td>NaN</td>\n",
              "      <td>NaN</td>\n",
              "      <td>NaN</td>\n",
              "      <td>NaN</td>\n",
              "      <td>NaN</td>\n",
              "      <td>NaN</td>\n",
              "      <td>NaN</td>\n",
              "      <td>NaN</td>\n",
              "      <td>NaN</td>\n",
              "      <td>andersonwilliam@yahoo.com</td>\n",
              "      <td>024.420.0375</td>\n",
              "      <td>4m7h5ipl1shyavt6vv2r</td>\n",
              "      <td>67b7:3db8:67e0:3bea:b9d0:90c1:2b60:b9f0</td>\n",
              "      <td>8478 Sean Ridges Apt. 441\\nDavisberg, PR 72250</td>\n",
              "      <td>8pneoi03z</td>\n",
              "      <td>False</td>\n",
              "      <td>card</td>\n",
              "      <td>...</td>\n",
              "      <td>NaN</td>\n",
              "      <td>NaN</td>\n",
              "      <td>NaN</td>\n",
              "      <td>NaN</td>\n",
              "      <td>NaN</td>\n",
              "      <td>NaN</td>\n",
              "      <td>NaN</td>\n",
              "      <td>NaN</td>\n",
              "      <td>NaN</td>\n",
              "      <td>NaN</td>\n",
              "      <td>NaN</td>\n",
              "      <td>NaN</td>\n",
              "      <td>NaN</td>\n",
              "      <td>NaN</td>\n",
              "      <td>NaN</td>\n",
              "      <td>NaN</td>\n",
              "      <td>NaN</td>\n",
              "      <td>NaN</td>\n",
              "      <td>NaN</td>\n",
              "      <td>NaN</td>\n",
              "      <td>NaN</td>\n",
              "      <td>NaN</td>\n",
              "      <td>NaN</td>\n",
              "      <td>NaN</td>\n",
              "      <td>NaN</td>\n",
              "      <td>NaN</td>\n",
              "      <td>NaN</td>\n",
              "      <td>NaN</td>\n",
              "      <td>NaN</td>\n",
              "      <td>NaN</td>\n",
              "      <td>NaN</td>\n",
              "      <td>NaN</td>\n",
              "      <td>NaN</td>\n",
              "      <td>NaN</td>\n",
              "      <td>NaN</td>\n",
              "      <td>NaN</td>\n",
              "      <td>NaN</td>\n",
              "      <td>NaN</td>\n",
              "      <td>NaN</td>\n",
              "      <td>False</td>\n",
              "    </tr>\n",
              "  </tbody>\n",
              "</table>\n",
              "<p>3 rows × 188 columns</p>\n",
              "</div>"
            ],
            "text/plain": [
              "  0_orderId  0_orderAmount  ... 14_transactionFailed fraudulent\n",
              "0    vjbdvd           18.0  ...                  NaN      False\n",
              "1    nlghpa           45.0  ...                  NaN       True\n",
              "2    yk34y2           33.0  ...                  NaN      False\n",
              "\n",
              "[3 rows x 188 columns]"
            ]
          },
          "metadata": {
            "tags": []
          },
          "execution_count": 393
        }
      ]
    },
    {
      "cell_type": "markdown",
      "metadata": {
        "id": "cUZ6TOULBxEv"
      },
      "source": [
        "# Feature Engineering"
      ]
    },
    {
      "cell_type": "markdown",
      "metadata": {
        "id": "xBV3g2Vjrb9I"
      },
      "source": [
        "**Feature engineering**\n",
        "\n",
        "The feature engineering I will perform will be figuring out what features are most likely to effect if a given user is a potential fraud commiter. I will do this by training an XGboost algorithm on the categorical data in encoded form, and taking the most relevent features to add to the final training model."
      ]
    },
    {
      "cell_type": "code",
      "metadata": {
        "colab": {
          "base_uri": "https://localhost:8080/"
        },
        "id": "RM5uWVV1AgI1",
        "outputId": "509b96a4-a0eb-4aab-f2ca-ee8efc7b9eb4"
      },
      "source": [
        "#What is problem type?\n",
        "print(df['fraudulent'].head(5))\n",
        "\n",
        "#Only true or false for fraud, will treat as binary classification problem"
      ],
      "execution_count": 394,
      "outputs": [
        {
          "output_type": "stream",
          "text": [
            "0    False\n",
            "1     True\n",
            "2    False\n",
            "3    False\n",
            "4     True\n",
            "Name: fraudulent, dtype: bool\n"
          ],
          "name": "stdout"
        }
      ]
    },
    {
      "cell_type": "markdown",
      "metadata": {
        "id": "Lqi9FJvrM8Gq"
      },
      "source": [
        "Could perform feature selection using PCA, but not a good fit for the problem as highest variance features may not actually be the most useful for classification"
      ]
    },
    {
      "cell_type": "code",
      "metadata": {
        "id": "SeW3-cvsvXrR"
      },
      "source": [
        "#Replace all nan's with 0 so that scikitlearn can actually split\n",
        "df = combined_data.fillna(0)\n",
        "\n",
        "catagorical_var = df.select_dtypes(include=[object] )\n"
      ],
      "execution_count": 395,
      "outputs": []
    },
    {
      "cell_type": "code",
      "metadata": {
        "id": "p9Z3HzCzsbZN"
      },
      "source": [
        "#Drop catagoricals, will add back the useful ones\n",
        "df = df.drop(catagorical_var, axis =1)"
      ],
      "execution_count": 396,
      "outputs": []
    },
    {
      "cell_type": "markdown",
      "metadata": {
        "id": "SbyjaHCd-TwZ"
      },
      "source": [
        "We now need to encode the catagorical variables so that they can be analysed \n",
        "Apply One-Hot Encoding.\n",
        "\n",
        "Obviously the data could have been cleaned up to have far fewer columns, (eg: avg the order volumes for each user to have one column in place of 7, but as the further EDA will show, not all of these columns have the same contributions to the final classification and I fear that this would lose valuable information, so I have conciously chosed to keep the df with many columns."
      ]
    },
    {
      "cell_type": "code",
      "metadata": {
        "id": "mGHhvuMUtY2j"
      },
      "source": [
        "#Encoding procedure, make sparce matrix of df columns and drop duplicates.\n",
        "onehot = pd.get_dummies(catagorical_var, drop_first=True)\n",
        "onehot = onehot.loc[:,~onehot.columns.duplicated()]"
      ],
      "execution_count": 397,
      "outputs": []
    },
    {
      "cell_type": "code",
      "metadata": {
        "colab": {
          "base_uri": "https://localhost:8080/"
        },
        "id": "X30tF8jU9bWE",
        "outputId": "7528b538-558f-4501-eebf-3d02b380147a"
      },
      "source": [
        "#How unbalanced are the classes \n",
        "print(combined_data['fraudulent'].value_counts())\n",
        "#Frac of around 60/160 fraud, will have to treat final training task as unbalance classification task for final model"
      ],
      "execution_count": 398,
      "outputs": [
        {
          "output_type": "stream",
          "text": [
            "False    107\n",
            "True      61\n",
            "Name: fraudulent, dtype: int64\n"
          ],
          "name": "stdout"
        }
      ]
    },
    {
      "cell_type": "code",
      "metadata": {
        "id": "BZhKBBktrru1",
        "colab": {
          "base_uri": "https://localhost:8080/"
        },
        "outputId": "d02e0e55-8927-4ae8-a7b2-b0390f0ee566"
      },
      "source": [
        "#Split data for training and print shapes as sanity check that all my dimentions are right\n",
        "onehot_X_train, onehot_X_test, onehot_y_train, onehot_y_test = train_test_split(onehot, df['fraudulent'], stratify= df['fraudulent'], test_size=0.2, random_state=1)\n",
        "\n",
        "print(onehot_X_train.shape, onehot_X_test.shape, onehot_y_train.shape, onehot_y_test.shape,)"
      ],
      "execution_count": 399,
      "outputs": [
        {
          "output_type": "stream",
          "text": [
            "(134, 3774) (34, 3774) (134,) (34,)\n"
          ],
          "name": "stdout"
        }
      ]
    },
    {
      "cell_type": "code",
      "metadata": {
        "colab": {
          "base_uri": "https://localhost:8080/"
        },
        "id": "cAcncJarutBR",
        "outputId": "97bedba9-af88-4b41-ec2c-b55052ea20a3"
      },
      "source": [
        "#Train model on just catagorical vars so that we can pick the ones with the highest value \n",
        "\n",
        "clf =XGBClassifier(max_depth=3, learning_rate=0.0025, n_estimators=500, objective='binary:logistic', booster='gbtree')\n",
        "print(clf)\n",
        "XGB=clf.fit(onehot_X_train,onehot_y_train)\n",
        "\n",
        "onehot_prediction=XGB.predict(onehot_X_test)"
      ],
      "execution_count": 400,
      "outputs": [
        {
          "output_type": "stream",
          "text": [
            "XGBClassifier(base_score=0.5, booster='gbtree', colsample_bylevel=1,\n",
            "              colsample_bynode=1, colsample_bytree=1, gamma=0,\n",
            "              learning_rate=0.0025, max_delta_step=0, max_depth=3,\n",
            "              min_child_weight=1, missing=None, n_estimators=500, n_jobs=1,\n",
            "              nthread=None, objective='binary:logistic', random_state=0,\n",
            "              reg_alpha=0, reg_lambda=1, scale_pos_weight=1, seed=None,\n",
            "              silent=None, subsample=1, verbosity=1)\n"
          ],
          "name": "stdout"
        }
      ]
    },
    {
      "cell_type": "code",
      "metadata": {
        "colab": {
          "base_uri": "https://localhost:8080/"
        },
        "id": "RYfiADnRoo-I",
        "outputId": "e0df776e-fcf8-4a05-f0c4-3f90f2e0cf04"
      },
      "source": [
        "#Taking a look at the model accuracy\n",
        "print(metrics.classification_report(onehot_y_test, onehot_prediction))"
      ],
      "execution_count": 401,
      "outputs": [
        {
          "output_type": "stream",
          "text": [
            "              precision    recall  f1-score   support\n",
            "\n",
            "       False       0.73      1.00      0.85        22\n",
            "        True       1.00      0.33      0.50        12\n",
            "\n",
            "    accuracy                           0.76        34\n",
            "   macro avg       0.87      0.67      0.67        34\n",
            "weighted avg       0.83      0.76      0.72        34\n",
            "\n"
          ],
          "name": "stdout"
        }
      ]
    },
    {
      "cell_type": "markdown",
      "metadata": {
        "id": "wK3Sigjo_iHh"
      },
      "source": [
        "\n",
        "We will show that the learning rate was intentionally kept lower than usual to decrease the number of false negatives at cost of increasing the number of false positives- it's useful to be overzealous with evaluating potential fraudsters then let them spip though. Confusion matrix will show **no** false negatives!\n"
      ]
    },
    {
      "cell_type": "code",
      "metadata": {
        "colab": {
          "base_uri": "https://localhost:8080/"
        },
        "id": "knvKdEsnmf7Y",
        "outputId": "32aee7ff-9fcd-48e0-fa7f-42988d5c4d23"
      },
      "source": [
        "\n",
        "print(metrics.confusion_matrix(onehot_y_test, onehot_prediction))\n"
      ],
      "execution_count": 402,
      "outputs": [
        {
          "output_type": "stream",
          "text": [
            "[[22  0]\n",
            " [ 8  4]]\n"
          ],
          "name": "stdout"
        }
      ]
    },
    {
      "cell_type": "markdown",
      "metadata": {
        "id": "lIorkQU1AGQq"
      },
      "source": [
        "From just feature embeds, F1 = 0.72, Not too bad right? Now obviously putting 3782 columns in as training data is irresponsibly slow, \n",
        "so  as a trade off I am going to decompose the result by feature importance, and see what can be cut and what can be kept.\n"
      ]
    },
    {
      "cell_type": "code",
      "metadata": {
        "colab": {
          "base_uri": "https://localhost:8080/",
          "height": 329
        },
        "id": "3cET9wX8m47Y",
        "outputId": "2ec3627c-ff80-4971-8914-6b13007ede25"
      },
      "source": [
        "#Accuracy \n",
        "accuracy = accuracy_score(onehot_y_test, onehot_prediction)\n",
        "print(\"Accuracy: %.2f%%\" % (accuracy * 100.0))\n",
        "\n",
        "#Plotting to show the most important features\n",
        "plot_importance(clf, max_num_features= 19)\n",
        "plt.figure(figsize=(16, 1800), dpi=80)\n",
        "plt.show()\n",
        "\n"
      ],
      "execution_count": 403,
      "outputs": [
        {
          "output_type": "stream",
          "text": [
            "Accuracy: 76.47%\n"
          ],
          "name": "stdout"
        },
        {
          "output_type": "display_data",
          "data": {
            "image/png": "[encoded data removed]",
            "text/plain": [
              "<Figure size 432x288 with 1 Axes>"
            ]
          },
          "metadata": {
            "tags": [],
            "needs_background": "light"
          }
        },
        {
          "output_type": "display_data",
          "data": {
            "text/plain": [
              "<Figure size 1280x144000 with 0 Axes>"
            ]
          },
          "metadata": {
            "tags": []
          }
        }
      ]
    },
    {
      "cell_type": "markdown",
      "metadata": {
        "id": "jAvLnM54Dnss"
      },
      "source": [
        "I am going to employ the same method again to "
      ]
    },
    {
      "cell_type": "code",
      "metadata": {
        "id": "kC5DnsGDtVZJ"
      },
      "source": [
        "#pick the features with F1> 20 to keep\n",
        "\n",
        "features = onehot[['0_paymentMethodIssuer_Solace Banks', '0_paymentMethodIssuer_Her Majesty Trust', '3_orderState_fulfilled', '0_paymentMethodType_card', '0_paymentMethodIssuer_Vertex Bancorp',\n",
        "                   '0_paymentMethodProvider_JCB 16 digit', '4_orderState_fulfilled', '2_paymentMethodType_card', '0_paymentMethodProvider_Mastercard', \n",
        "                   '0_paymentMethodIssuer_Rose Bancshares', '0_paymentMethodIssuer_Grand Credit Corporation', '3_paymentMethodType_card',\n",
        "                   '1_paymentMethodType_card', '2_orderState_fulfilled', '1_paymentMethodProvider_JCB 16 digit', '0_paymentMethodRegistrationFailure_True',\n",
        "                   '1_orderState_fulfilled', '0_paymentMethodProvider_VISA 16 digit', '0_paymentMethodType_paypal', ]]\n",
        "\n",
        "#Doing this, we cut the dimentionality of the onehot encoded catagorical vars by a factor of 150 times at the cost of only 1-2% accuracy cost.\n"
      ],
      "execution_count": 404,
      "outputs": []
    },
    {
      "cell_type": "code",
      "metadata": {
        "id": "fqWk72ZrtZzR"
      },
      "source": [
        "#Concat the features list to the numeric features to get our final df to apply ML to for an inbalanced binary classification problem.\n",
        "df_features = pd.concat([features, df], axis=1)"
      ],
      "execution_count": 405,
      "outputs": []
    },
    {
      "cell_type": "markdown",
      "metadata": {
        "id": "J2hf_TEKBjXf"
      },
      "source": [
        "# Train Model"
      ]
    },
    {
      "cell_type": "code",
      "metadata": {
        "id": "b4CzvbqowjG3"
      },
      "source": [
        "from sklearn.model_selection import train_test_split\n",
        "\n",
        "X_train, X_test, y_train, y_test = train_test_split(df_features.drop(['fraudulent'], axis = 1), df_features['fraudulent'], stratify= df_features['fraudulent'], test_size=0.20, random_state=1, shuffle=True)\n"
      ],
      "execution_count": 406,
      "outputs": []
    },
    {
      "cell_type": "code",
      "metadata": {
        "id": "Y2QGnfPq1LBd",
        "colab": {
          "base_uri": "https://localhost:8080/"
        },
        "outputId": "3fa345db-ec38-4198-91aa-fe3c8ac05ad3"
      },
      "source": [
        "# fit xgboost on an imbalanced classification dataset\n",
        "\n",
        "#Define model as unbalance classifier with ratio defined in the EDA section\n",
        "model =XGBClassifier(max_depth=3, learning_rate=0.0025, n_estimators=500, objective='binary:logistic', booster='gbtree', scale_pos_weight=0.375)\n",
        "print(model)\n",
        "XGB=model.fit(X_train,y_train)\n",
        "\n",
        "\n",
        "prediction=XGB.predict(X_test)\n"
      ],
      "execution_count": 407,
      "outputs": [
        {
          "output_type": "stream",
          "text": [
            "XGBClassifier(base_score=0.5, booster='gbtree', colsample_bylevel=1,\n",
            "              colsample_bynode=1, colsample_bytree=1, gamma=0,\n",
            "              learning_rate=0.0025, max_delta_step=0, max_depth=3,\n",
            "              min_child_weight=1, missing=None, n_estimators=500, n_jobs=1,\n",
            "              nthread=None, objective='binary:logistic', random_state=0,\n",
            "              reg_alpha=0, reg_lambda=1, scale_pos_weight=0.375, seed=None,\n",
            "              silent=None, subsample=1, verbosity=1)\n"
          ],
          "name": "stdout"
        }
      ]
    },
    {
      "cell_type": "code",
      "metadata": {
        "colab": {
          "base_uri": "https://localhost:8080/"
        },
        "id": "XXQwxqIW2gME",
        "outputId": "202b5bae-2565-4eab-8c1e-44810843f7af"
      },
      "source": [
        "#Find the metrics for accuracy\n",
        "print(metrics.classification_report(y_test, prediction))\n",
        "print(metrics.confusion_matrix(y_test, prediction))"
      ],
      "execution_count": 408,
      "outputs": [
        {
          "output_type": "stream",
          "text": [
            "              precision    recall  f1-score   support\n",
            "\n",
            "       False       0.72      0.95      0.82        22\n",
            "        True       0.80      0.33      0.47        12\n",
            "\n",
            "    accuracy                           0.74        34\n",
            "   macro avg       0.76      0.64      0.65        34\n",
            "weighted avg       0.75      0.74      0.70        34\n",
            "\n",
            "[[21  1]\n",
            " [ 8  4]]\n"
          ],
          "name": "stdout"
        }
      ]
    },
    {
      "cell_type": "code",
      "metadata": {
        "colab": {
          "base_uri": "https://localhost:8080/"
        },
        "id": "hxdc91g4vZn1",
        "outputId": "35bb87ae-712d-4575-cb01-c0ac390e1892"
      },
      "source": [
        "accuracy = accuracy_score(y_test, prediction)\n",
        "print(\"Accuracy: %.2f%%\" % (accuracy * 100.0))"
      ],
      "execution_count": 409,
      "outputs": [
        {
          "output_type": "stream",
          "text": [
            "Accuracy: 73.53%\n"
          ],
          "name": "stdout"
        }
      ]
    },
    {
      "cell_type": "code",
      "metadata": {
        "colab": {
          "base_uri": "https://localhost:8080/",
          "height": 295
        },
        "id": "JRDpfS2rRHRR",
        "outputId": "e4444a3e-08e3-4c5a-affe-b25aab523cfe"
      },
      "source": [
        "#A more colourful version of the confusion matrix for clarity\n",
        "matrix = plot_confusion_matrix(model, X_test, y_test,\n",
        "                                 cmap=plt.cm.Blues,\n",
        "                                 normalize='true')\n",
        "plt.title('Confusion matrix for our classifier')\n",
        "plt.show(matrix)\n",
        "plt.show()"
      ],
      "execution_count": 410,
      "outputs": [
        {
          "output_type": "display_data",
          "data": {
            "image/png": "[encoded data removed]",
            "text/plain": [
              "<Figure size 432x288 with 2 Axes>"
            ]
          },
          "metadata": {
            "tags": [],
            "needs_background": "light"
          }
        }
      ]
    },
    {
      "cell_type": "markdown",
      "metadata": {
        "id": "cWBg57uPAzo3"
      },
      "source": [
        "Odd. the catagorical variables alone outperform the same as with the numerics.\n",
        "Maybe the catagorical vars are being overpowered by transforming them to int. \n",
        "\n",
        "We could try weight of evidence encoding (works well for the loan default classification kaggle challenge) \n",
        "instead of onehot. (ran out of time to try, would be interesting though!).\n"
      ]
    },
    {
      "cell_type": "code",
      "metadata": {
        "id": "Hadr1Y64ySWK",
        "colab": {
          "base_uri": "https://localhost:8080/",
          "height": 312
        },
        "outputId": "2165bf19-5f4e-47a8-9bac-720a70e8ae3a"
      },
      "source": [
        "plot_importance(clf, max_num_features= 30)\n",
        "plt.figure(figsize=(16, 1800), dpi=80)\n",
        "plt.show()"
      ],
      "execution_count": 411,
      "outputs": [
        {
          "output_type": "display_data",
          "data": {
            "image/png": "[encoded data removed]",
            "text/plain": [
              "<Figure size 432x288 with 1 Axes>"
            ]
          },
          "metadata": {
            "tags": [],
            "needs_background": "light"
          }
        },
        {
          "output_type": "display_data",
          "data": {
            "text/plain": [
              "<Figure size 1280x144000 with 0 Axes>"
            ]
          },
          "metadata": {
            "tags": []
          }
        }
      ]
    },
    {
      "cell_type": "markdown",
      "metadata": {
        "id": "SiMUyrzZIjP5"
      },
      "source": [
        "It seems the inferanced are dominated by the categorical variables, with the most important features being the payment method issuer, if payment was by card, if the order was fulfilled and if the transaction failed.\n",
        "\n",
        "This could potentially show an overemphisis of the categorical variables, in the final section I will dicuss some methods that could be used to fix this if I had more time to improve the model.\n"
      ]
    },
    {
      "cell_type": "markdown",
      "metadata": {
        "id": "UuUElsfwUTdw"
      },
      "source": [
        "I will also quickly trial some simple ML methods such as an SVM, logistic regressor ect to see if our result can be beaten for accuracy. "
      ]
    },
    {
      "cell_type": "code",
      "metadata": {
        "id": "R4G2vJYZPt_a"
      },
      "source": [
        "#Implimenting SVM on data \n",
        "from sklearn import svm\n",
        "\n",
        "model_svm = svm.SVC(kernel='linear', C = 1.0)\n",
        "model_svm.fit(X_train,y_train)\n",
        "\n",
        "prediction_svm = model_svm.predict(X_test)"
      ],
      "execution_count": 412,
      "outputs": []
    },
    {
      "cell_type": "code",
      "metadata": {
        "colab": {
          "base_uri": "https://localhost:8080/",
          "height": 295
        },
        "id": "ecoX6rZBQY-E",
        "outputId": "bffa64d8-7400-497b-e737-1c9d69c29808"
      },
      "source": [
        "matrix = plot_confusion_matrix(model_svm, X_test, y_test,\n",
        "                                 cmap=plt.cm.Blues,\n",
        "                                 normalize='true')\n",
        "plt.title('Confusion matrix for our classifier')\n",
        "plt.show(matrix)\n",
        "plt.show()\n"
      ],
      "execution_count": 413,
      "outputs": [
        {
          "output_type": "display_data",
          "data": {
            "image/png": "[encoded data removed]",
            "text/plain": [
              "<Figure size 432x288 with 2 Axes>"
            ]
          },
          "metadata": {
            "tags": [],
            "needs_background": "light"
          }
        }
      ]
    },
    {
      "cell_type": "markdown",
      "metadata": {
        "id": "2nqU8pCkUZQI"
      },
      "source": [
        "Substandard accuracy when compared to XGboost, will next try Logistic regression "
      ]
    },
    {
      "cell_type": "code",
      "metadata": {
        "colab": {
          "base_uri": "https://localhost:8080/"
        },
        "id": "78EoJyHrRjWB",
        "outputId": "f98da009-99fe-4d80-9751-ab346c52ac0a"
      },
      "source": [
        "\n",
        "from sklearn.linear_model import LogisticRegression\n",
        "from sklearn import preprocessing\n",
        "from sklearn.pipeline import make_pipeline\n",
        "from sklearn.preprocessing import StandardScaler\n",
        "\n",
        "\n",
        "scaler = preprocessing.StandardScaler().fit(X_train)\n",
        "pipe = make_pipeline(StandardScaler(), LogisticRegression())\n",
        "pipe.fit(X_train, y_train)"
      ],
      "execution_count": 414,
      "outputs": [
        {
          "output_type": "execute_result",
          "data": {
            "text/plain": [
              "Pipeline(memory=None,\n",
              "         steps=[('standardscaler',\n",
              "                 StandardScaler(copy=True, with_mean=True, with_std=True)),\n",
              "                ('logisticregression',\n",
              "                 LogisticRegression(C=1.0, class_weight=None, dual=False,\n",
              "                                    fit_intercept=True, intercept_scaling=1,\n",
              "                                    l1_ratio=None, max_iter=100,\n",
              "                                    multi_class='auto', n_jobs=None,\n",
              "                                    penalty='l2', random_state=None,\n",
              "                                    solver='lbfgs', tol=0.0001, verbose=0,\n",
              "                                    warm_start=False))],\n",
              "         verbose=False)"
            ]
          },
          "metadata": {
            "tags": []
          },
          "execution_count": 414
        }
      ]
    },
    {
      "cell_type": "code",
      "metadata": {
        "colab": {
          "base_uri": "https://localhost:8080/"
        },
        "id": "ky0f5CP7T3FB",
        "outputId": "f180fff0-1655-4e16-d22c-c7d3c3f62955"
      },
      "source": [
        "#Accuracy of simple logistic regression\n",
        "print(\"Accuracy: \", pipe.score(X_test, y_test))"
      ],
      "execution_count": 415,
      "outputs": [
        {
          "output_type": "stream",
          "text": [
            "Accuracy:  0.6470588235294118\n"
          ],
          "name": "stdout"
        }
      ]
    },
    {
      "cell_type": "markdown",
      "metadata": {
        "id": "DlO4gQuuUgFZ"
      },
      "source": [
        "Still worse than XGBoost. Although I wont here, these models could be combined in a metaclass to create an ensemble to improve accuracy. Finally will try naive bayes, showing a roughly 65% accuracy."
      ]
    },
    {
      "cell_type": "code",
      "metadata": {
        "colab": {
          "base_uri": "https://localhost:8080/"
        },
        "id": "BmowKZQdUv1-",
        "outputId": "986e4885-f13f-4f48-f0a3-8fd529b28805"
      },
      "source": [
        "gnb = GaussianNB()\n",
        "y_pred = gnb.fit(X_train, y_train).predict(X_test)\n",
        "\n",
        "print(\"Number of mislabeled points out of a total %d points : %d\"\n",
        "% (X_test.shape[0], (y_test != y_pred).sum()))"
      ],
      "execution_count": 416,
      "outputs": [
        {
          "output_type": "stream",
          "text": [
            "Number of mislabeled points out of a total 34 points : 10\n"
          ],
          "name": "stdout"
        }
      ]
    },
    {
      "cell_type": "markdown",
      "metadata": {
        "id": "0KDhqmoeJR96"
      },
      "source": [
        "# Next steps "
      ]
    },
    {
      "cell_type": "markdown",
      "metadata": {
        "id": "R2MDAcC8JU0j"
      },
      "source": [
        "1) The location data seemed to be a potential goldmine for spotting fraud, but too complex to use to its full extent in the time period. For a longer attempt, I would produce a knowledge graph of known adresses of fraud committing, and take an attempt at building up a huristic model of fraud mapping, as shown by demonstrations from the quantexa team.\n",
        "\n",
        "\n",
        "2) I would like to train other models on the data to analyse performance of other classifiers. Although my intuitions lead me to believe XGboost would provide good accuracy, the high non liniarity of some features could mean SVM's with a polynomial kernal could perform better. \n",
        "\n",
        "Ultimately, it would probably be best to protype a good 5 different models such as logistic regression ect, and produce an ensemble model for the final classification.\n",
        "\n",
        "3) It would have been interesting as a further step of EDA to perform clustering of the feature vectors to perform feature selection with greater automation. It would also be another way of confirming my hypothesis that the feature importance is dependant on the ID of the purchance (the importance of using the card the first time was shown to be more important than the 4th, or any other time) other than just using XGBoost."
      ]
    }
  ]
}