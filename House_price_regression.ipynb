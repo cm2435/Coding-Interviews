{
  "nbformat": 4,
  "nbformat_minor": 5,
  "metadata": {
    "kernelspec": {
      "display_name": "Python 3",
      "language": "python",
      "name": "python3"
    },
    "language_info": {
      "codemirror_mode": {
        "name": "ipython",
        "version": 3
      },
      "file_extension": ".py",
      "mimetype": "text/x-python",
      "name": "python",
      "nbconvert_exporter": "python",
      "pygments_lexer": "ipython3",
      "version": "3.6.8"
    },
    "toc": {
      "base_numbering": 1,
      "nav_menu": {
        "height": "12px",
        "width": "192px"
      },
      "number_sections": true,
      "sideBar": true,
      "skip_h1_title": false,
      "title_cell": "Table of Contents",
      "title_sidebar": "Contents",
      "toc_cell": false,
      "toc_position": {},
      "toc_section_display": true,
      "toc_window_display": false
    },
    "colab": {
      "name": "machine-learning-challenge.ipynb",
      "provenance": [],
      "collapsed_sections": [],
      "toc_visible": true
    }
  },
  "cells": [
    {
      "cell_type": "markdown",
      "metadata": {
        "id": "frank-start"
      },
      "source": [
        "# Welcome"
      ],
      "id": "frank-start"
    },
    {
      "cell_type": "markdown",
      "metadata": {
        "id": "alpine-surface"
      },
      "source": [
        "Hello and welcome to Proportunity machine learning challenge.\n",
        "\n",
        "What follows is a series of questions about machine learning theory intertwined with programming tasks. The first one puts more focus on your Python skills, the second allows us to see how you interact with data and tackle an optmisation problem.\n",
        "\n",
        "Your results will not be scored against predefined answers. Rather, we are hoping to learn how you approach a problem, what tools you use and how you explain your ideas (through code and words). Use comments where appropriate, but prefer coding in a way that is self-explanatory - your code will be evaluated by someone who is proficient in Python and core ML libraries such as pandas, numpy, sklearn or matplotlib.\n",
        "\n",
        "Once done, clean up the code, restart the kernel, run all of the cells sequentially, save the result and send us the notebook.\n",
        "\n",
        "Best of luck!"
      ],
      "id": "alpine-surface"
    },
    {
      "cell_type": "markdown",
      "metadata": {
        "id": "opposed-campbell"
      },
      "source": [
        "# Part 1: Hyperparameter optimisation\n",
        "\n",
        "*(<90 minutes)*\n",
        "\n",
        "Model evaluation and selection is essential for construction of reliable systems. The usual computation follows this structure:\n",
        "\n",
        "1. Load data\n",
        "2. Configure model hyperparameters\n",
        "3. Train the model (slow process)\n",
        "4. Evaluate the model on some predefined metrics\n",
        "5. Repeat the above and pick the best model\n",
        "\n",
        "An abstract example of this is the `run` function in the code below. The purpose of the function is to find the set of hyperparameters that leads to the highest score.\n",
        "\n",
        "## Task 1\n",
        "\n",
        "Complete function`evaluate_all_scores`. It should compute a weighted average of particular scoring functions with weights defined in `score_params` dictionary.\n",
        "\n",
        "*Comments (if any):*\n",
        "\n",
        "## Task 2\n",
        "\n",
        "Write `optimize_model` to find the optimal model (highest score) given the search space. Your algorithm\n",
        "should try every possible combination of parameters $a$, $b$ and $c$ and find the optimal one.\n",
        "\n",
        "Would your solution still work if a new parameter $d$ was added to the search space?\n",
        "\n",
        "Run the code cells below after completing all `#TODO` sections.\n",
        "\n",
        "*Comments (if any):*"
      ],
      "id": "opposed-campbell"
    },
    {
      "cell_type": "code",
      "metadata": {
        "ExecuteTime": {
          "end_time": "2021-02-26T10:00:18.093619Z",
          "start_time": "2021-02-26T10:00:18.083030Z"
        },
        "code_folding": [],
        "id": "alive-burlington"
      },
      "source": [
        "# Preferably, do not modify code in this cell\n",
        "\n",
        "class Data:\n",
        "    \"\"\"Placeholder class only. Imagine this substituted with a DataFrame or another structure.\"\"\"\n",
        "    pass\n",
        "\n",
        "\n",
        "def evaluate_score1(data: Data, model_hparams: dict):\n",
        "    d = model_hparams['a'] - model_hparams['b']\n",
        "    return d**2\n",
        "\n",
        "\n",
        "def evaluate_score2(data: Data, model_hparams: dict):\n",
        "    return (model_hparams['a']**2 + model_hparams['b']**2 + model_hparams['c']**2)/3.0\n",
        "\n",
        "\n",
        "def run():\n",
        "    data = Data()\n",
        "\n",
        "    example = {\n",
        "        'a': 1,\n",
        "        'b': 2,\n",
        "        'c': 3\n",
        "    }\n",
        "    print('score 1 = ', evaluate_score1(data, example))\n",
        "    print('score 2 = ', evaluate_score2(data, example))\n",
        "    \n",
        "\n",
        "    # TASK 1\n",
        "    score_params = {\n",
        "        1: 0.5,  # Weight of evaluate_score1\n",
        "        2: 0.5   # Weight of evaluate_score2\n",
        "    }\n",
        "    print('total_score = ', evaluate_all_scores(data, example, score_params, [evaluate_score1, evaluate_score2]))\n",
        "\n",
        "    # TASK 2\n",
        "    search_space = {\n",
        "        'a': list(range(100)),\n",
        "        'b': [-1, 0, 1, 10] + list(range(11, 30)),\n",
        "        'c': [-10, -5, 0, 5, 10],\n",
        "    }\n",
        "    \n",
        "    optimal_model_hparams, optimal_score = optimize_model(data, search_space, score_params, [evaluate_score1, evaluate_score2])\n",
        "    print('optimal_score = ', optimal_score)\n",
        "    print('optimal_model_hparams = ', optimal_model_hparams)    \n",
        "    "
      ],
      "id": "alive-burlington",
      "execution_count": null,
      "outputs": []
    },
    {
      "cell_type": "code",
      "metadata": {
        "ExecuteTime": {
          "end_time": "2021-02-26T10:00:18.764766Z",
          "start_time": "2021-02-26T10:00:18.758974Z"
        },
        "id": "exact-opposition"
      },
      "source": [
        "import itertools\n",
        "#Both functions work for any number of params\n",
        "\n",
        "def evaluate_all_scores(data: Data, model_hparams: dict, score_params: dict, score_functions: list):\n",
        "  \"\"\" Given score_params return total score. \"\"\" \n",
        "  weighted_evals = []\n",
        "  for param, func in zip(score_params.values(), score_functions):\n",
        "    weighted_evals.append(func(Data, model_hparams) * param)\n",
        "\n",
        "  return sum(weighted_evals) / len(weighted_evals)\n",
        "\n",
        "\n",
        "\n",
        "def optimize_model(data: Data, search_space: dict, score_params: dict, score_functions: list):\n",
        "    \"\"\" Explore all settings specified in search_space and return best settings and score \"\"\"\n",
        "    \n",
        "    best_score = 0\n",
        "    best_hparams = {}\n",
        "\n",
        "    parameters = search_space.values()\n",
        "    keys = search_space.keys()\n",
        "    h_params = {}\n",
        "\n",
        "    for params in list(itertools.product(*parameters)):\n",
        "      params_list = list(params)\n",
        "      h_params = dict(zip(keys, params_list))\n",
        "      score = evaluate_all_scores(Data, h_params, score_params, score_functions)\n",
        "      if score > best_score:\n",
        "        best_score = score\n",
        "        best_hparams = h_params\n",
        "\n",
        "    return best_hparams, best_score"
      ],
      "id": "exact-opposition",
      "execution_count": null,
      "outputs": []
    },
    {
      "cell_type": "code",
      "metadata": {
        "colab": {
          "base_uri": "https://localhost:8080/"
        },
        "id": "MioWFFpCmK-k",
        "outputId": "67ddff3f-3995-4fa7-acfa-2022bb0520f8"
      },
      "source": [
        "run()"
      ],
      "id": "MioWFFpCmK-k",
      "execution_count": null,
      "outputs": [
        {
          "output_type": "stream",
          "text": [
            "score 1 =  1\n",
            "score 2 =  4.666666666666667\n",
            "total_score =  1.4166666666666667\n",
            "optimal_score =  3325.1666666666665\n",
            "optimal_model_hparams =  {'a': 99, 'b': -1, 'c': -10}\n"
          ],
          "name": "stdout"
        }
      ]
    },
    {
      "cell_type": "markdown",
      "metadata": {
        "id": "whole-bookmark"
      },
      "source": [
        "## Task 3\n",
        "\n",
        "Answer in text below.\n",
        "\n",
        "\n",
        "**Question 1- How would I parallelise this algorithm** \\\\\n",
        "In short, using pyspark. I would set up a grid search algorithm, either the one above or in a real usecase using a SKlearn pipeline, read in the data using a dask dataframe and parallelise the algorithm aross multiple nodes, say 20, using the dask API.\n",
        "\n",
        "**Q2: What is the name for the hyperparameter optimisation approach you implemented? Do you know of any alternatives? What are the tradeoffs?** \\\\\n",
        "The algorithm I implimented was a simple grid search- it iterates over all of the discrete values defined in the grid, calculates the metrics for each value combination, and finds the value for the best performing instance and what values create this optimal score.  An alternative would be a multi armed bandit algorithm for maximising values, in which instead of iterating over the entire search space, bayesian methods (or conventional methods) are to reach to optimal point in a compelx search space in far fewer iterations by trying distributions with better score distributions more often. Such an algorithm is implimented in ARM's Mango libary, it performs roughly 7000x faster than grid search for optimisation, but due to the bayesian nature there is a slim chance it may accidently disguard possible values that would be **more** optimal\n",
        "\n",
        "**Q3: What is the danger of optimizing too much? How does one alleviate this danger?** \\\\\n",
        "One issue would potentially be that an algorithm that is perfectly optimisated to a dataset becomes overfitted: if over time the data starts to exibit properties of being non stationary (skew or drift), or even if new data with other distributions are inferred upon (such as if your training data isn't representative of all real world cases lacking generality), an over optimised model would perform suddenly far worse than on its training data. This can be alleviated by using cross validation evaluation, model regularisation, early stopping and more training data.\n",
        "\n",
        "**Q4: With respect to the previous question. Is this also a problem for time series data? (e.g. prices of properties over time) Are there any additional dangers in this domain?** \n",
        "Yes, as mentioned above, with time series data there are some additional risks of overfitting (skew, drift) along with some others. In time series data, traditional test train split's can't be used without \"temporal leaks\", meaning that often time series models are backtested on the same data that they are trained on, which unsuprisingly would lead to overfitting. To avoid this, models are evaluated using nested cross validation, evaluated using information criteria, or by using bayesian methods. \n",
        "\n",
        "**Q5: Q5: Name a few machine learning algorithms that are prone to overfitting and a few that are not. What drives the difference between them? Are there differences in how one would cope with overfitting in those models?** \\\\\n",
        "Models which have larger numbers of parameters are more prone to overfitting than their counterparts with less. This means that neural networks, say for a classifier, are more prone to overfitting on data than a much more simplistic model such as a SVM. The main cause of this is that overfitting in terms of inferential statistics is when one attempts to estimate too many parameters from a sample that is too small, and thus larger complexity models (or conversly smaller sample sizes) prevent adequately approximating the true model for your response variable.\n",
        "\n",
        "Some approaches to handling overfitting may vairy- in neural networks for regression for example, to avoid overfitting dropout layers may be used, while in smaller more simplistic models lasso and ridge regression could be more useful for regularisation of models. Ultimately, the complexity of neural networks means that they are best used for cases of large amounts of training data.\n",
        "\n",
        "**Q6: Give an example of an interesting research paper from recent years. Briefly, describe the domain and the problem. What is the contribution? Would you have an idea on how improve to the method further? Or apply it in a specific setting?**\\\\\n",
        "An interesting paper that recently came out in my opinion was a paper done into the time series forcasting of chaotic systems. The general concept was that in the forcasting in long time spans, or for highly stochastic processes, deterministic components become increasingly more difficult to forcast due to the propergation of randomness in the time series. The paper worked on methods of dimentionality redux and denoising of stochasticity of these chaotic systems to improve the accuracy of forcasting tools like LTSM. The paper used PCA for dimentionality redux, and wavelet transforms for denoising. \n",
        "\n",
        " I got in contact with the writer and suggested that they use partial fourier transforms in place of the wavelet transform, as it seemed that temporal gaps created by WT allowed the model to \"cheat\" as its result were not reproducable, and also using variational autoencoders for dimentionality redux to preserve possible non liniarities in the input processes as PCA forces orthognality of the resultant features in the reduced vector space. An interesting case of chaotic data for this could be order book data for cryptocurrency."
      ],
      "id": "whole-bookmark"
    },
    {
      "cell_type": "markdown",
      "metadata": {
        "ExecuteTime": {
          "end_time": "2021-02-25T13:30:56.204739Z",
          "start_time": "2021-02-25T13:30:56.195499Z"
        },
        "id": "desirable-cover"
      },
      "source": [
        "# Part 2: Predicting property price\n",
        "\n",
        "## Intro\n",
        "\n",
        "In this challenge we ask you to explore a dataset, build a price predictive model and argue how further accuracy gain can be enabled.\n",
        "\n",
        "This is significantly more free-form than the previous set of tasks, so we will let the code do most the talking. We offer some helper questions, but primarily proceed as you would with the goal building an accurate model that joins some ensemble. Provide explanations and key findings through text and plots. \n",
        "\n",
        "In case you are short on time: We prefer a simpler but complete pipeline, in contrast to sophisticated preprocessing and modelling but lacking evaluation. Ideally, start with a simple pipeline and add more complexity in subsequent iterations (e.g. don't worry about overfitting on first iteration).\n",
        "\n",
        "## Tools\n",
        "\n",
        "Feel free to use whatever Python libraries suit you best. We suggest you install pandas (for loading the data)   and plotly (for displaying variables on the map) - two functions you may find helpful are defined below."
      ],
      "id": "desirable-cover"
    },
    {
      "cell_type": "code",
      "metadata": {
        "ExecuteTime": {
          "end_time": "2021-02-26T10:00:21.311703Z",
          "start_time": "2021-02-26T10:00:21.297027Z"
        },
        "id": "occasional-restaurant"
      },
      "source": [
        "import pandas as pd\n",
        "import plotly.express as px\n",
        "\n",
        "\n",
        "def get_data(path: str):\n",
        "    \"\"\" Loads a specified .csv into a DataFrame. \"\"\"\n",
        "    trans = pd.read_csv(\n",
        "        path,\n",
        "        #index_col=\"transaction_id\",\n",
        "        parse_dates=[\"transfer_date\", \"previous_transfer_date\"],\n",
        "    )\n",
        "    return trans\n",
        "\n",
        "\n",
        "def plot_df_map(df, col=None):\n",
        "    \"\"\" Display selected column from a dataframe on a map. Requires plotly. \n",
        "    \n",
        "    >>> plot_df_map(trans, \"price\")\n",
        "    \n",
        "    \"\"\"\n",
        "    assert len(df) < 100000\n",
        "    \n",
        "    fig = px.scatter_mapbox(\n",
        "        data_frame=df,\n",
        "        lat=\"latitude\", lon=\"longitude\",\n",
        "        color=col,\n",
        "        opacity=0.99,\n",
        "    )\n",
        "\n",
        "    fig.update_layout(mapbox_style=\"carto-positron\",\n",
        "                      mapbox_zoom=10, mapbox_center={\"lat\": df[\"latitude\"].mean(), \"lon\": df[\"longitude\"].mean()})\n",
        "    fig.update_layout(margin={\"r\": 20, \"t\": 0, \"l\": 0, \"b\": 0})\n",
        "    fig.update_layout(legend_orientation=\"h\")\n",
        "    return fig"
      ],
      "id": "occasional-restaurant",
      "execution_count": null,
      "outputs": []
    },
    {
      "cell_type": "markdown",
      "metadata": {
        "id": "literary-cricket"
      },
      "source": [
        "## Data\n",
        "\n",
        "The training dataset contains information about retail property transactions in a particular London location in years 2005 to 2015. The test dataset contains the same columns except for the price, all the transactions there are from 2015 to 2016. Proportunity builds price models in order to understand which neighbourhoods or property types are likely to be a good investment. The following variables are available:\n",
        "\n",
        "| **Variable**              | **Description**                                                     \t|\n",
        "|------------------------\t|-----------------------------------------------------------------\t|\n",
        "| price                  \t| price in GBP at which property was sold                         \t|\n",
        "| transaction_date         \t| date of the transaction                                         \t|\n",
        "| property_type          \t| building type (D)etached, (F)lat, (S)emi-detached or (T)erraced \t|\n",
        "| is_new_property         \t| describes whether the property was new at the purchase time     \t|\n",
        "| floor_area            \t| floor area in metres squared (contains noise and NaNs)          \t|\n",
        "| floor_number            \t| floor at which the property is located                          \t|\n",
        "| rooms_count           \t| number of rooms                                                 \t|\n",
        "| construction_year_band  \t| when was the building constructed (discrete bands)              \t|\n",
        "| latitude               \t| latitude in degrees                                             \t|\n",
        "| longitude              \t| longitude in degrees                                            \t|\n",
        "| previous_price         \t| price in GBP at which property was sold previously              \t|\n",
        "| previous_transaction_date\t| date of the previous transaction                                \t|\n",
        "\n",
        "Data may contain outliers and erroneous entries. We ask you to predict price based on the remaining variables. Feel free to transform them or generate new features.\n",
        "\n",
        "**Question 1:** Which variables are most informative about the price? Make a guess ahead of exploration. Then provide a measure of informativeness and ranking of variables while building the model (may be heuristic). If you could use only $k$ variables, which would you use? Do some of the variables convey similar information?\n",
        "\n",
        "*point to relevant code cells*\n",
        "\n",
        "*Comments (if any):* \n",
        "\n",
        "\n",
        "## Evaluation\n",
        "\n",
        "At Proportunity we train models on past data but make predictions about property prices today and in the future. Build your training and evalation with this in mind. You can choose a performance metric for your system - do justify your choice. It is absolutely acceptable for your model to not be able to make a prediction for every property. If that is the case, report also the hitrate of your model (and output a NaN).\n",
        "\n",
        "**Question 2:** What performance metric did you pick and why? Does your model exhibit bias? Is it particularly good or bad on some sub-populations of the dataset? \n",
        "\n",
        "*point to relevant code cells*\n",
        "\n",
        "*Comments (if any):* \n",
        "\n",
        "## Results\n",
        "\n",
        "Make predictions for the properties in the test file. Return only your prediction column, indexed by `transaction_id`. Send it to us along with the notebook.\n",
        "\n",
        "**Question 3:** What performance do you expect on transactions from 2015-2016?\n",
        "\n",
        "*Comments (if any):* "
      ],
      "id": "literary-cricket"
    },
    {
      "cell_type": "markdown",
      "metadata": {
        "id": "-YREi7NMRpLn"
      },
      "source": [
        "**Question 1** \\\\\n",
        " I would imagine that the most informative variable would be the floor area for the housing. The measure I plan on using to measure the informativeness is the importance of the models to a tree algorithm for its regression- ultimately the most important features will be those with the highest contribution to predictions of pricing. This will allow for ranking of variables based on contribution, allowing for the use of the kth top. Additionally, I did a pairwise correlation of the numeric variables, but since this was done pre encoding and to avoid the curse of dimentionality, this was only used to rank the numeric variables.\n",
        "\n",
        "**Question 2**\\\\\n",
        "Since this amounts to a regression problem, I chose to use RMSE to evaluate the performance of the model as it measured the 'loss' from the predicted regression line. I also provided the variance for the regression of the neural network to get an idea for how far away most points are from the predicted regression line \\\\\n",
        "\n",
        "The model does seem to exibit bias towards numeric features, the XGboost ranking seems to almost completely ignore the contributions of the categorical data. I believe that it performs far worse on houses are higher in price as the data is not evenly distributed by price, meaning that due to the lower number of data points in the high price range, the model overfits in that reigeme, causing far larger error.\n",
        "\n",
        "**Question 3** \\\\ \n",
        "Since I split the training data into a subsection of test and train data so that I could generate metrics, I can say that the test data is likely to have the same scores as the training data shown later on, assuming no bias was added in the splitting of the data. \n",
        "\n"
      ],
      "id": "-YREi7NMRpLn"
    },
    {
      "cell_type": "code",
      "metadata": {
        "ExecuteTime": {
          "end_time": "2021-02-26T10:00:22.477623Z",
          "start_time": "2021-02-26T10:00:22.366851Z"
        },
        "id": "celtic-bullet"
      },
      "source": [
        "# load the data\n",
        "train = get_data(\"/content/ml-challenge-train.csv\")\n",
        "test  = get_data(\"/content/ml-challenge-test.csv\")"
      ],
      "id": "celtic-bullet",
      "execution_count": null,
      "outputs": []
    },
    {
      "cell_type": "code",
      "metadata": {
        "id": "-TIXqktgpsPb"
      },
      "source": [
        "import matplotlib.pyplot as plt\n",
        "import numpy as np \n",
        "import seaborn as sns \n",
        "import tensorflow as tf\n",
        "from sklearn.preprocessing import LabelEncoder\n",
        "from sklearn.preprocessing import MinMaxScaler\n",
        "from sklearn.model_selection import train_test_split\n",
        "\n",
        "from tensorflow.keras.models import Sequential\n",
        "from tensorflow.keras.optimizers import Adam\n",
        "from tensorflow.keras.layers import Dropout\n",
        "\n",
        "from keras.callbacks import ModelCheckpoint\n",
        "from keras.models import Sequential\n",
        "from keras.layers import Dense, Activation, Flatten\n",
        "\n",
        "import xgboost as xg\n",
        "from xgboost import plot_importance\n",
        "\n",
        "from sklearn import metrics\n",
        "from sklearn.model_selection import RandomizedSearchCV, GridSearchCV\n",
        "\n",
        "from sklearn.metrics import mean_squared_error as MSE, explained_variance_score"
      ],
      "id": "-TIXqktgpsPb",
      "execution_count": null,
      "outputs": []
    },
    {
      "cell_type": "code",
      "metadata": {
        "id": "MDTZUuKfboVp"
      },
      "source": [
        "#Test train split\n",
        "X_train, X_test, y_train, y_test = train_test_split(train.drop(['price'], axis=1), train['price'], test_size=0.20, random_state=1, shuffle=True)"
      ],
      "id": "MDTZUuKfboVp",
      "execution_count": null,
      "outputs": []
    },
    {
      "cell_type": "code",
      "metadata": {
        "colab": {
          "base_uri": "https://localhost:8080/"
        },
        "id": "31WLE5tYpLZQ",
        "outputId": "fb0a5788-54d3-41de-e163-447d3ce28063"
      },
      "source": [
        "#Find the number of null values by column\n",
        "print(X_train.isnull().sum(), X_test.isnull().sum())"
      ],
      "id": "31WLE5tYpLZQ",
      "execution_count": null,
      "outputs": [
        {
          "output_type": "stream",
          "text": [
            "transaction_id                0\n",
            "transfer_date                 0\n",
            "property_type_lr              0\n",
            "new_property                  0\n",
            "total_floor_area             13\n",
            "floor_level                5349\n",
            "number_habitable_rooms    11399\n",
            "construction_age_band      5705\n",
            "latitude                      0\n",
            "longitude                     0\n",
            "previous_price            17709\n",
            "previous_transfer_date    17709\n",
            "dtype: int64 transaction_id               0\n",
            "transfer_date                0\n",
            "property_type_lr             0\n",
            "new_property                 0\n",
            "total_floor_area             4\n",
            "floor_level               1318\n",
            "number_habitable_rooms    2798\n",
            "construction_age_band     1425\n",
            "latitude                     0\n",
            "longitude                    0\n",
            "previous_price            4451\n",
            "previous_transfer_date    4451\n",
            "dtype: int64\n"
          ],
          "name": "stdout"
        }
      ]
    },
    {
      "cell_type": "code",
      "metadata": {
        "id": "M7h0nJrKyXlj",
        "colab": {
          "base_uri": "https://localhost:8080/",
          "height": 613
        },
        "outputId": "82131288-44f6-4e07-92ba-e82dd42653a0"
      },
      "source": [
        "def pairwise_function(important_var):\n",
        "  train.dropna()\n",
        "  correlations = train.corrwith(train[important_var]).iloc[:-1].to_frame()\n",
        "  correlations['absolute'] = correlations[0].abs()\n",
        "  sorted_correlations = correlations.sort_values('absolute', ascending=False)[0]\n",
        "  fig, ax = plt.subplots(figsize=(5,10))\n",
        "  return sns.heatmap(sorted_correlations.to_frame(), cmap='coolwarm', annot=True, vmin=-1, vmax=1, ax=ax);\n",
        "\n",
        "#Find correlations to price \n",
        "pairwise_function(\"price\")"
      ],
      "id": "M7h0nJrKyXlj",
      "execution_count": null,
      "outputs": [
        {
          "output_type": "execute_result",
          "data": {
            "text/plain": [
              "<matplotlib.axes._subplots.AxesSubplot at 0x7f319db1db10>"
            ]
          },
          "metadata": {
            "tags": []
          },
          "execution_count": 9
        },
        {
          "output_type": "display_data",
          "data": {
            "image/png": "[encoded data removed]",
            "text/plain": [
              "<Figure size 360x720 with 2 Axes>"
            ]
          },
          "metadata": {
            "tags": [],
            "needs_background": "light"
          }
        }
      ]
    },
    {
      "cell_type": "code",
      "metadata": {
        "id": "aBJVdhMOpY-z",
        "colab": {
          "base_uri": "https://localhost:8080/",
          "height": 225
        },
        "outputId": "44fd5356-9aa7-4288-e0ad-1b7478abf6a5"
      },
      "source": [
        "#Get idea of distributions of numerical variables\n",
        "train.describe().transpose()"
      ],
      "id": "aBJVdhMOpY-z",
      "execution_count": null,
      "outputs": [
        {
          "output_type": "execute_result",
          "data": {
            "text/html": [
              "<div>\n",
              "<style scoped>\n",
              "    .dataframe tbody tr th:only-of-type {\n",
              "        vertical-align: middle;\n",
              "    }\n",
              "\n",
              "    .dataframe tbody tr th {\n",
              "        vertical-align: top;\n",
              "    }\n",
              "\n",
              "    .dataframe thead th {\n",
              "        text-align: right;\n",
              "    }\n",
              "</style>\n",
              "<table border=\"1\" class=\"dataframe\">\n",
              "  <thead>\n",
              "    <tr style=\"text-align: right;\">\n",
              "      <th></th>\n",
              "      <th>count</th>\n",
              "      <th>mean</th>\n",
              "      <th>std</th>\n",
              "      <th>min</th>\n",
              "      <th>25%</th>\n",
              "      <th>50%</th>\n",
              "      <th>75%</th>\n",
              "      <th>max</th>\n",
              "    </tr>\n",
              "  </thead>\n",
              "  <tbody>\n",
              "    <tr>\n",
              "      <th>price</th>\n",
              "      <td>44341.0</td>\n",
              "      <td>323977.676620</td>\n",
              "      <td>180020.199253</td>\n",
              "      <td>36250.000000</td>\n",
              "      <td>224995.000000</td>\n",
              "      <td>283000.000000</td>\n",
              "      <td>377000.000000</td>\n",
              "      <td>4.000000e+06</td>\n",
              "    </tr>\n",
              "    <tr>\n",
              "      <th>total_floor_area</th>\n",
              "      <td>44324.0</td>\n",
              "      <td>60.381694</td>\n",
              "      <td>38.470871</td>\n",
              "      <td>0.000000</td>\n",
              "      <td>44.000000</td>\n",
              "      <td>61.600000</td>\n",
              "      <td>79.870000</td>\n",
              "      <td>1.409000e+03</td>\n",
              "    </tr>\n",
              "    <tr>\n",
              "      <th>number_habitable_rooms</th>\n",
              "      <td>30144.0</td>\n",
              "      <td>3.303178</td>\n",
              "      <td>1.315608</td>\n",
              "      <td>1.000000</td>\n",
              "      <td>2.000000</td>\n",
              "      <td>3.000000</td>\n",
              "      <td>4.000000</td>\n",
              "      <td>3.100000e+01</td>\n",
              "    </tr>\n",
              "    <tr>\n",
              "      <th>latitude</th>\n",
              "      <td>44341.0</td>\n",
              "      <td>51.500147</td>\n",
              "      <td>0.013811</td>\n",
              "      <td>51.475003</td>\n",
              "      <td>51.487817</td>\n",
              "      <td>51.500053</td>\n",
              "      <td>51.511626</td>\n",
              "      <td>5.152500e+01</td>\n",
              "    </tr>\n",
              "    <tr>\n",
              "      <th>longitude</th>\n",
              "      <td>44341.0</td>\n",
              "      <td>-0.010702</td>\n",
              "      <td>0.025684</td>\n",
              "      <td>-0.049997</td>\n",
              "      <td>-0.029705</td>\n",
              "      <td>-0.017342</td>\n",
              "      <td>0.011200</td>\n",
              "      <td>4.999600e-02</td>\n",
              "    </tr>\n",
              "    <tr>\n",
              "      <th>previous_price</th>\n",
              "      <td>22181.0</td>\n",
              "      <td>232677.856499</td>\n",
              "      <td>148082.615856</td>\n",
              "      <td>10.000000</td>\n",
              "      <td>142500.000000</td>\n",
              "      <td>212000.000000</td>\n",
              "      <td>285666.000000</td>\n",
              "      <td>2.950000e+06</td>\n",
              "    </tr>\n",
              "  </tbody>\n",
              "</table>\n",
              "</div>"
            ],
            "text/plain": [
              "                          count           mean  ...            75%           max\n",
              "price                   44341.0  323977.676620  ...  377000.000000  4.000000e+06\n",
              "total_floor_area        44324.0      60.381694  ...      79.870000  1.409000e+03\n",
              "number_habitable_rooms  30144.0       3.303178  ...       4.000000  3.100000e+01\n",
              "latitude                44341.0      51.500147  ...      51.511626  5.152500e+01\n",
              "longitude               44341.0      -0.010702  ...       0.011200  4.999600e-02\n",
              "previous_price          22181.0  232677.856499  ...  285666.000000  2.950000e+06\n",
              "\n",
              "[6 rows x 8 columns]"
            ]
          },
          "metadata": {
            "tags": []
          },
          "execution_count": 10
        }
      ]
    },
    {
      "cell_type": "code",
      "metadata": {
        "colab": {
          "base_uri": "https://localhost:8080/",
          "height": 384
        },
        "id": "JmrKhZ_d-yCR",
        "outputId": "5886ff19-2283-4f82-c1b7-0c3a8121cf18"
      },
      "source": [
        "sns.countplot(train['number_habitable_rooms'])"
      ],
      "id": "JmrKhZ_d-yCR",
      "execution_count": null,
      "outputs": [
        {
          "output_type": "stream",
          "text": [
            "/usr/local/lib/python3.7/dist-packages/seaborn/_decorators.py:43: FutureWarning:\n",
            "\n",
            "Pass the following variable as a keyword arg: x. From version 0.12, the only valid positional argument will be `data`, and passing other arguments without an explicit keyword will result in an error or misinterpretation.\n",
            "\n"
          ],
          "name": "stderr"
        },
        {
          "output_type": "execute_result",
          "data": {
            "text/plain": [
              "<matplotlib.axes._subplots.AxesSubplot at 0x7f319517d690>"
            ]
          },
          "metadata": {
            "tags": []
          },
          "execution_count": 11
        },
        {
          "output_type": "display_data",
          "data": {
            "image/png": "[encoded data removed]",
            "text/plain": [
              "<Figure size 432x288 with 1 Axes>"
            ]
          },
          "metadata": {
            "tags": [],
            "needs_background": "light"
          }
        }
      ]
    },
    {
      "cell_type": "code",
      "metadata": {
        "colab": {
          "base_uri": "https://localhost:8080/",
          "height": 367
        },
        "id": "-UlV21hZp0hJ",
        "outputId": "2c9e2655-8e5a-4b24-876d-b30924518c89"
      },
      "source": [
        "sns.countplot(train['number_habitable_rooms'])\n",
        "\n",
        "#Outlier removal for num habitable rooms \n",
        "indexNames = train[ train['number_habitable_rooms'] >8 ].index\n",
        "train.drop(indexNames , inplace=True)\n",
        "\n",
        "indexNames_test = test[ test['number_habitable_rooms'] >8 ].index\n",
        "test.drop(indexNames_test , inplace=True)"
      ],
      "id": "-UlV21hZp0hJ",
      "execution_count": null,
      "outputs": [
        {
          "output_type": "stream",
          "text": [
            "/usr/local/lib/python3.7/dist-packages/seaborn/_decorators.py:43: FutureWarning:\n",
            "\n",
            "Pass the following variable as a keyword arg: x. From version 0.12, the only valid positional argument will be `data`, and passing other arguments without an explicit keyword will result in an error or misinterpretation.\n",
            "\n"
          ],
          "name": "stderr"
        },
        {
          "output_type": "display_data",
          "data": {
            "image/png": "[encoded data removed]",
            "text/plain": [
              "<Figure size 432x288 with 1 Axes>"
            ]
          },
          "metadata": {
            "tags": [],
            "needs_background": "light"
          }
        }
      ]
    },
    {
      "cell_type": "code",
      "metadata": {
        "colab": {
          "base_uri": "https://localhost:8080/",
          "height": 602
        },
        "id": "Tgfhh3L8p7dy",
        "outputId": "749b730b-4fc2-4c8a-e4fc-dd15f9e248d7"
      },
      "source": [
        "plt.figure(figsize=(12,8))\n",
        "#sns.scatterplot(x='price',y='total_floor_area',data=train)\n",
        "\n",
        "sns.distplot(train['total_floor_area'])"
      ],
      "id": "Tgfhh3L8p7dy",
      "execution_count": null,
      "outputs": [
        {
          "output_type": "stream",
          "text": [
            "/usr/local/lib/python3.7/dist-packages/seaborn/distributions.py:2557: FutureWarning:\n",
            "\n",
            "`distplot` is a deprecated function and will be removed in a future version. Please adapt your code to use either `displot` (a figure-level function with similar flexibility) or `histplot` (an axes-level function for histograms).\n",
            "\n"
          ],
          "name": "stderr"
        },
        {
          "output_type": "execute_result",
          "data": {
            "text/plain": [
              "<matplotlib.axes._subplots.AxesSubplot at 0x7f3194b7fc50>"
            ]
          },
          "metadata": {
            "tags": []
          },
          "execution_count": 13
        },
        {
          "output_type": "display_data",
          "data": {
            "image/png": "[encoded data removed]",
            "text/plain": [
              "<Figure size 864x576 with 1 Axes>"
            ]
          },
          "metadata": {
            "tags": [],
            "needs_background": "light"
          }
        }
      ]
    },
    {
      "cell_type": "code",
      "metadata": {
        "id": "hSa1CPq8BYRO"
      },
      "source": [
        ""
      ],
      "id": "hSa1CPq8BYRO",
      "execution_count": null,
      "outputs": []
    },
    {
      "cell_type": "code",
      "metadata": {
        "colab": {
          "base_uri": "https://localhost:8080/",
          "height": 384
        },
        "id": "3RiJ7UcP_Vu6",
        "outputId": "2330fb4a-1681-47f3-dd37-9f1596450b6b"
      },
      "source": [
        "#Outlier removal for floor_area, houses must have floor area so these are incorrect \n",
        "\n",
        "#Drop zero vals\n",
        "train =train[train['total_floor_area'] !=0]\n",
        "test =test[test['total_floor_area'] !=0]\n",
        "\n",
        "\n",
        "indexNames_floor_large = train[ train['total_floor_area'] >400 ].index\n",
        "train.drop(indexNames_floor_large , inplace=True)\n",
        "\n",
        "\n",
        "#Remove outliers larger than 400 \n",
        "indexNames_floor_test = test[ test['total_floor_area'] >400 ].index\n",
        "test.drop(indexNames_floor_test , inplace=True)\n",
        "\n",
        "sns.distplot(train['total_floor_area'])"
      ],
      "id": "3RiJ7UcP_Vu6",
      "execution_count": null,
      "outputs": [
        {
          "output_type": "stream",
          "text": [
            "/usr/local/lib/python3.7/dist-packages/seaborn/distributions.py:2557: FutureWarning:\n",
            "\n",
            "`distplot` is a deprecated function and will be removed in a future version. Please adapt your code to use either `displot` (a figure-level function with similar flexibility) or `histplot` (an axes-level function for histograms).\n",
            "\n"
          ],
          "name": "stderr"
        },
        {
          "output_type": "execute_result",
          "data": {
            "text/plain": [
              "<matplotlib.axes._subplots.AxesSubplot at 0x7f3192a91e50>"
            ]
          },
          "metadata": {
            "tags": []
          },
          "execution_count": 14
        },
        {
          "output_type": "display_data",
          "data": {
            "image/png": "[encoded data removed]",
            "text/plain": [
              "<Figure size 432x288 with 1 Axes>"
            ]
          },
          "metadata": {
            "tags": [],
            "needs_background": "light"
          }
        }
      ]
    },
    {
      "cell_type": "code",
      "metadata": {
        "colab": {
          "base_uri": "https://localhost:8080/",
          "height": 308
        },
        "id": "tVlds8TrqIbq",
        "outputId": "a0005831-ed98-4307-b7ed-9ae1b50928c4"
      },
      "source": [
        "sns.boxplot(x= 'number_habitable_rooms',y='price',data=train)\n",
        "\n",
        "sns.boxplot(x= 'property_type_lr',y='price',data=train)\n"
      ],
      "id": "tVlds8TrqIbq",
      "execution_count": null,
      "outputs": [
        {
          "output_type": "execute_result",
          "data": {
            "text/plain": [
              "<matplotlib.axes._subplots.AxesSubplot at 0x7f3192994450>"
            ]
          },
          "metadata": {
            "tags": []
          },
          "execution_count": 15
        },
        {
          "output_type": "display_data",
          "data": {
            "image/png": "[encoded data removed]",
            "text/plain": [
              "<Figure size 432x288 with 1 Axes>"
            ]
          },
          "metadata": {
            "tags": [],
            "needs_background": "light"
          }
        }
      ]
    },
    {
      "cell_type": "code",
      "metadata": {
        "id": "72isZg3hqeoq",
        "colab": {
          "base_uri": "https://localhost:8080/"
        },
        "outputId": "3e430e7e-75e3-4396-8700-4bd2e70d2d2f"
      },
      "source": [
        "train.dtypes.value_counts()"
      ],
      "id": "72isZg3hqeoq",
      "execution_count": null,
      "outputs": [
        {
          "output_type": "execute_result",
          "data": {
            "text/plain": [
              "object            5\n",
              "float64           5\n",
              "datetime64[ns]    2\n",
              "int64             1\n",
              "dtype: int64"
            ]
          },
          "metadata": {
            "tags": []
          },
          "execution_count": 16
        }
      ]
    },
    {
      "cell_type": "code",
      "metadata": {
        "colab": {
          "base_uri": "https://localhost:8080/"
        },
        "id": "vFH7SCusKGb_",
        "outputId": "434fdf4d-e6af-4241-9d4e-e25410a6dc9f"
      },
      "source": [
        "train.head(1)\n",
        "\n",
        "datetime_bin_vals = train[['transfer_date', 'previous_transfer_date']]\n",
        "datetime_bin_vals.shape, train['price'].shape"
      ],
      "id": "vFH7SCusKGb_",
      "execution_count": null,
      "outputs": [
        {
          "output_type": "execute_result",
          "data": {
            "text/plain": [
              "((37255, 2), (37255,))"
            ]
          },
          "metadata": {
            "tags": []
          },
          "execution_count": 17
        }
      ]
    },
    {
      "cell_type": "code",
      "metadata": {
        "id": "UsNfqP_H5fyu"
      },
      "source": [
        "index_train = X_train['transaction_id']\n",
        "index_test = X_test['transaction_id']"
      ],
      "id": "UsNfqP_H5fyu",
      "execution_count": null,
      "outputs": []
    },
    {
      "cell_type": "code",
      "metadata": {
        "id": "LSPDXT3wH3ag"
      },
      "source": [
        "def preprocess_numeric(input):\n",
        "  '''\n",
        "  Takes in a dataframe, and performs all of the preprocessing to feed into model. Made for reusability on \n",
        "  test data which is pre-split\n",
        "\n",
        "  params- input: pandas dataframe\n",
        "          output: pandas dataframe of X data\n",
        "\n",
        "  Could not for the life of me perform a join of the onehot encoded features to the numeric so I just used the numeric features in the end.\n",
        "  '''\n",
        "\n",
        "  #Fill the missing data for the data\n",
        "  input['total_floor_area']= input['total_floor_area'].fillna(value = input['total_floor_area'].mean())\n",
        "  input['number_habitable_rooms'] = input['number_habitable_rooms'].fillna(value = input['number_habitable_rooms'].mean())\n",
        "  input['floor_level'] = input['floor_level'].fillna(0)\n",
        "  input['construction_age_band'] = input['construction_age_band'].fillna(0)\n",
        "  input['previous_price'] = input['previous_price'].fillna(value = input['previous_price'].mean())\n",
        "\n",
        "\n",
        "  #Define the numerical variables from the dataframe to be scaled\n",
        "  numerical_vars = input[['total_floor_area', 'number_habitable_rooms', 'previous_price']]\n",
        "  scaled = MinMaxScaler().fit_transform(numerical_vars)\n",
        "  scaled = pd.DataFrame(scaled, columns= [['total_floor_area', 'number_habitable_rooms', 'previous_price']], index = input['transaction_id'])\n",
        "  \n",
        "  #Perform the needed label encoding for input columns of only two types \n",
        "  new_property = LabelEncoder().fit_transform(input['new_property'])\n",
        "  new_property = pd.DataFrame(new_property, columns= [['new_property']], index= input['transaction_id'])\n",
        "\n",
        "\n",
        "  #Define the variables for one hot encoding \n",
        "  onehot_vars = input[['property_type_lr', 'floor_level', 'construction_age_band']] \n",
        "\n",
        "  #Fill the missing values for the categorical values\n",
        "  input['floor_level'].fillna(\"missing\")\n",
        "  input['construction_age_band'].fillna(\"missing\")\n",
        "\n",
        "  #Onehot encoding of categorical vars and dropping duplicates\n",
        "  onehot = pd.get_dummies(onehot_vars, drop_first=True, )\n",
        "  onehot = onehot.loc[:,~onehot.columns.duplicated()]\n",
        "  onehot.index = input['transaction_id']\n",
        "\n",
        "\n",
        "  #Output the feature df\n",
        "  df = pd.concat([new_property, scaled], axis=1)\n",
        "\n",
        "  return df"
      ],
      "id": "LSPDXT3wH3ag",
      "execution_count": null,
      "outputs": []
    },
    {
      "cell_type": "code",
      "metadata": {
        "id": "qs3FgatbdCrK"
      },
      "source": [
        "  def preprocess_categorical(input):\n",
        "    '''takes in a dataframe of categorical variables and outputs their onehot encoded df'''\n",
        "    \n",
        "    #Define the variables for one hot encoding \n",
        "    onehot_vars = input[['property_type_lr', 'floor_level', 'construction_age_band']] \n",
        "\n",
        "    #Fill the missing values for the categorical values\n",
        "    input['floor_level'].fillna(\"missing\")\n",
        "    input['construction_age_band'].fillna(\"missing\")\n",
        "\n",
        "    #Onehot encoding of categorical vars and dropping duplicates\n",
        "    onehot = pd.get_dummies(onehot_vars, drop_first=True, )\n",
        "    onehot = onehot.loc[:,~onehot.columns.duplicated()]\n",
        "    onehot.index = input['transaction_id']\n",
        "    return onehot"
      ],
      "id": "qs3FgatbdCrK",
      "execution_count": null,
      "outputs": []
    },
    {
      "cell_type": "code",
      "metadata": {
        "id": "jaKi9uA-65iB"
      },
      "source": [
        "#create the feature dataframes \n",
        "X_train = pd.concat([preprocess_numeric(X_train), preprocess_categorical(X_train)], axis = 1)\n",
        "X_test =  pd.concat([preprocess_numeric(X_test), preprocess_categorical(X_test)], axis = 1)"
      ],
      "id": "jaKi9uA-65iB",
      "execution_count": null,
      "outputs": []
    },
    {
      "cell_type": "code",
      "metadata": {
        "colab": {
          "base_uri": "https://localhost:8080/",
          "height": 136
        },
        "id": "Mcg9T9nsvbp3",
        "outputId": "0f30fcc2-ff23-4660-8024-fe1ca89a66e3"
      },
      "source": [
        "#Algorithm for finding the best hyperparams to use for the XGboost algorithm, commented out because takes way too long to run \n",
        "\n",
        "'''\n",
        "parameters_for_testing = {\n",
        "    'colsample_bytree':[0.4,0.6,0.8],\n",
        "    'gamma':[0,0.03,0.1,0.3],\n",
        "    'min_child_weight':[1.5,6,10],\n",
        "    'learning_rate':[0.1,0.07],\n",
        "    'max_depth':[3,5],\n",
        "    'n_estimators':[10000],\n",
        "    'reg_alpha':[1e-5, 1e-2,  0.75],\n",
        "    'reg_lambda':[1e-5, 1e-2, 0.45],\n",
        "    'subsample':[0.6,0.95]  \n",
        "}\n",
        "\n",
        "                    \n",
        "xgb_model = xg.XGBRegressor(learning_rate =0.1, n_estimators=1000, max_depth=5,\n",
        "     min_child_weight=1, gamma=0, subsample=0.8, colsample_bytree=0.8, nthread=6, scale_pos_weight=1, seed=27)\n",
        "\n",
        "gsearch1 = GridSearchCV(estimator = xgb_model, param_grid = parameters_for_testing, n_jobs=6,iid=False, verbose=10,scoring='neg_mean_squared_error')\n",
        "gsearch1.fit(X_train,y_train)\n",
        "print (gsearch1.grid_scores_)\n",
        "print('best params')\n",
        "print (gsearch1.best_params_)\n",
        "print('best score')\n",
        "print (gsearch1.best_score_)\n",
        "'''"
      ],
      "id": "Mcg9T9nsvbp3",
      "execution_count": null,
      "outputs": [
        {
          "output_type": "execute_result",
          "data": {
            "application/vnd.google.colaboratory.intrinsic+json": {
              "type": "string"
            },
            "text/plain": [
              "\"\\nparameters_for_testing = {\\n    'colsample_bytree':[0.4,0.6,0.8],\\n    'gamma':[0,0.03,0.1,0.3],\\n    'min_child_weight':[1.5,6,10],\\n    'learning_rate':[0.1,0.07],\\n    'max_depth':[3,5],\\n    'n_estimators':[10000],\\n    'reg_alpha':[1e-5, 1e-2,  0.75],\\n    'reg_lambda':[1e-5, 1e-2, 0.45],\\n    'subsample':[0.6,0.95]  \\n}\\n\\n                    \\nxgb_model = xg.XGBRegressor(learning_rate =0.1, n_estimators=1000, max_depth=5,\\n     min_child_weight=1, gamma=0, subsample=0.8, colsample_bytree=0.8, nthread=6, scale_pos_weight=1, seed=27)\\n\\ngsearch1 = GridSearchCV(estimator = xgb_model, param_grid = parameters_for_testing, n_jobs=6,iid=False, verbose=10,scoring='neg_mean_squared_error')\\ngsearch1.fit(X_train,y_train)\\nprint (gsearch1.grid_scores_)\\nprint('best params')\\nprint (gsearch1.best_params_)\\nprint('best score')\\nprint (gsearch1.best_score_)\\n\""
            ]
          },
          "metadata": {
            "tags": []
          },
          "execution_count": 22
        }
      ]
    },
    {
      "cell_type": "markdown",
      "metadata": {
        "id": "F7cRhfVYV07Y"
      },
      "source": [
        "Models "
      ],
      "id": "F7cRhfVYV07Y"
    },
    {
      "cell_type": "code",
      "metadata": {
        "id": "ji4wH59_Z1Px",
        "colab": {
          "base_uri": "https://localhost:8080/"
        },
        "outputId": "5a12a2dc-bc38-4546-9576-ac0fde8e13a2"
      },
      "source": [
        "#Set up an XGboost model to get a hirarchy of features used, numeric and categorical \n",
        "xgb_r = xg.XGBRegressor(objective ='reg:linear',\n",
        "                  n_estimators = 5, seed = 123, learning_rate = 0.1, booster= \"dart\", scale_pos_weight=0.375)\n",
        "\n",
        "xgb_r.fit(X_train, y_train)\n",
        "pred = xgb_r.predict(X_test)\n",
        "\n",
        "#Print the root mean squared error for the XGboost model\n",
        "rmse = np.sqrt(MSE(y_test, pred))\n",
        "print(\"RMSE : % f\" %(rmse))\n"
      ],
      "id": "ji4wH59_Z1Px",
      "execution_count": null,
      "outputs": [
        {
          "output_type": "stream",
          "text": [
            "[10:44:28] WARNING: /workspace/src/objective/regression_obj.cu:152: reg:linear is now deprecated in favor of reg:squarederror.\n",
            "RMSE :  194702.631370\n"
          ],
          "name": "stdout"
        }
      ]
    },
    {
      "cell_type": "code",
      "metadata": {
        "colab": {
          "base_uri": "https://localhost:8080/",
          "height": 312
        },
        "id": "tbBmz1xAcY1u",
        "outputId": "3305bc4f-2c70-4efa-ef5f-3b2a89823cef"
      },
      "source": [
        "#Find the most important features  \n",
        "\n",
        "plot_importance(xgb_r, max_num_features= 5)\n",
        "plt.figure(figsize=(16, 1800), dpi=80)\n",
        "plt.show()"
      ],
      "id": "tbBmz1xAcY1u",
      "execution_count": null,
      "outputs": [
        {
          "output_type": "display_data",
          "data": {
            "image/png": "[encoded data removed]",
            "text/plain": [
              "<Figure size 432x288 with 1 Axes>"
            ]
          },
          "metadata": {
            "tags": [],
            "needs_background": "light"
          }
        },
        {
          "output_type": "display_data",
          "data": {
            "text/plain": [
              "<Figure size 1280x144000 with 0 Axes>"
            ]
          },
          "metadata": {
            "tags": []
          }
        }
      ]
    },
    {
      "cell_type": "code",
      "metadata": {
        "id": "MhlFN-GDRoNb"
      },
      "source": [
        "from tensorflow.keras.callbacks import EarlyStopping\n",
        "\n",
        "#Define the model\n",
        "NN_model = Sequential()\n",
        "\n",
        "# The Input Layer :\n",
        "NN_model.add(Dense(128, kernel_initializer='normal', activation='relu'))\n",
        "\n",
        "# The Hidden Layers :\n",
        "NN_model.add(Dense(256, kernel_initializer='normal',activation='relu'))\n",
        "NN_model.add(Dense(128, kernel_initializer='normal',activation='relu'))\n",
        "NN_model.add(Dense(64, kernel_initializer='normal',activation='relu'))\n",
        "\n",
        "\n",
        "# The Output Layer :\n",
        "NN_model.add(Dense(1, kernel_initializer='normal',activation='linear'))\n",
        "\n",
        "# Compile the network :\n",
        "NN_model.compile(loss='mean_absolute_error', optimizer='adam', metrics=['mean_absolute_error'])\n",
        "\n",
        "earlystop_callback = EarlyStopping(\n",
        "  monitor='loss',\n",
        "  patience=2)"
      ],
      "id": "MhlFN-GDRoNb",
      "execution_count": null,
      "outputs": []
    },
    {
      "cell_type": "code",
      "metadata": {
        "colab": {
          "base_uri": "https://localhost:8080/"
        },
        "id": "dv6sVH8TWMiY",
        "outputId": "a2a710f7-2d17-4ac7-ac64-c526da1382a9"
      },
      "source": [
        "NN_model.fit(X_train, y_train, epochs=10, batch_size=32, validation_split = 0.2, callbacks= earlystop_callback, workers = 10)"
      ],
      "id": "dv6sVH8TWMiY",
      "execution_count": null,
      "outputs": [
        {
          "output_type": "stream",
          "text": [
            "Epoch 1/10\n",
            "887/887 [==============================] - 3s 3ms/step - loss: 193529.6997 - mean_absolute_error: 193529.6997 - val_loss: 95548.0312 - val_mean_absolute_error: 95548.0312\n",
            "Epoch 2/10\n",
            "887/887 [==============================] - 2s 2ms/step - loss: 95808.4815 - mean_absolute_error: 95808.4815 - val_loss: 88581.5625 - val_mean_absolute_error: 88581.5625\n",
            "Epoch 3/10\n",
            "887/887 [==============================] - 2s 2ms/step - loss: 88645.2708 - mean_absolute_error: 88645.2708 - val_loss: 80207.1797 - val_mean_absolute_error: 80207.1797\n",
            "Epoch 4/10\n",
            "887/887 [==============================] - 2s 2ms/step - loss: 80270.0371 - mean_absolute_error: 80270.0371 - val_loss: 74313.0156 - val_mean_absolute_error: 74313.0156\n",
            "Epoch 5/10\n",
            "887/887 [==============================] - 2s 2ms/step - loss: 76362.0390 - mean_absolute_error: 76362.0390 - val_loss: 73700.7500 - val_mean_absolute_error: 73700.7500\n",
            "Epoch 6/10\n",
            "887/887 [==============================] - 2s 2ms/step - loss: 75859.6308 - mean_absolute_error: 75859.6308 - val_loss: 71537.3438 - val_mean_absolute_error: 71537.3438\n",
            "Epoch 7/10\n",
            "887/887 [==============================] - 2s 2ms/step - loss: 74135.2258 - mean_absolute_error: 74135.2258 - val_loss: 72223.8438 - val_mean_absolute_error: 72223.8438\n",
            "Epoch 8/10\n",
            "887/887 [==============================] - 2s 2ms/step - loss: 72505.0744 - mean_absolute_error: 72505.0744 - val_loss: 70232.7656 - val_mean_absolute_error: 70232.7656\n",
            "Epoch 9/10\n",
            "887/887 [==============================] - 2s 2ms/step - loss: 72984.4674 - mean_absolute_error: 72984.4674 - val_loss: 70631.1562 - val_mean_absolute_error: 70631.1562\n",
            "Epoch 10/10\n",
            "887/887 [==============================] - 2s 2ms/step - loss: 72209.8429 - mean_absolute_error: 72209.8429 - val_loss: 69697.8281 - val_mean_absolute_error: 69697.8281\n"
          ],
          "name": "stdout"
        },
        {
          "output_type": "execute_result",
          "data": {
            "text/plain": [
              "<tensorflow.python.keras.callbacks.History at 0x7f319275e890>"
            ]
          },
          "metadata": {
            "tags": []
          },
          "execution_count": 26
        }
      ]
    },
    {
      "cell_type": "code",
      "metadata": {
        "id": "MhCI32WEXJcr"
      },
      "source": [
        "model = NN_model"
      ],
      "id": "MhCI32WEXJcr",
      "execution_count": null,
      "outputs": []
    },
    {
      "cell_type": "code",
      "metadata": {
        "id": "KUEG6GKZkf0t",
        "colab": {
          "base_uri": "https://localhost:8080/",
          "height": 428
        },
        "outputId": "29caafe8-edc7-4c8c-d461-a8daee88a3fd"
      },
      "source": [
        "y_pred = model.predict(X_test)\n",
        "\n",
        "#Printing performance metrics \n",
        "print('MAE:', metrics.mean_absolute_error(y_test, y_pred))  \n",
        "print('MSE:', metrics.mean_squared_error(y_test, y_pred))  \n",
        "print('RMSE:', np.sqrt(metrics.mean_squared_error(y_test, y_pred)))\n",
        "print('VarScore:',metrics.explained_variance_score(y_test,y_pred))\n",
        "\n",
        "# Visualizing Our predictions\n",
        "fig = plt.figure(figsize=(10,5))\n",
        "plt.scatter(y_test,y_pred)\n",
        "# Perfect predictions\n",
        "plt.plot(y_test,y_test,'r')"
      ],
      "id": "KUEG6GKZkf0t",
      "execution_count": null,
      "outputs": [
        {
          "output_type": "stream",
          "text": [
            "MAE: 300185.1456001945\n",
            "MSE: 136430726177.62958\n",
            "RMSE: 369365.3018051771\n",
            "VarScore: -0.8949274261334601\n"
          ],
          "name": "stdout"
        },
        {
          "output_type": "execute_result",
          "data": {
            "text/plain": [
              "[<matplotlib.lines.Line2D at 0x7f318adde390>]"
            ]
          },
          "metadata": {
            "tags": []
          },
          "execution_count": 28
        },
        {
          "output_type": "display_data",
          "data": {
            "image/png": "[encoded data removed]",
            "text/plain": [
              "<Figure size 720x360 with 1 Axes>"
            ]
          },
          "metadata": {
            "tags": [],
            "needs_background": "light"
          }
        }
      ]
    },
    {
      "cell_type": "code",
      "metadata": {
        "colab": {
          "base_uri": "https://localhost:8080/",
          "height": 393
        },
        "id": "HqZy9Jj5pIok",
        "outputId": "423a3fad-bd09-4122-e34f-5fefa7179131"
      },
      "source": [
        "#Plot distribution of errors\n",
        "predictions = model.predict(X_test)\n",
        "errors = y_test.values.reshape(8869, 1) - predictions\n",
        "sns.distplot(errors)"
      ],
      "id": "HqZy9Jj5pIok",
      "execution_count": null,
      "outputs": [
        {
          "output_type": "stream",
          "text": [
            "/usr/local/lib/python3.7/dist-packages/seaborn/distributions.py:2557: FutureWarning:\n",
            "\n",
            "`distplot` is a deprecated function and will be removed in a future version. Please adapt your code to use either `displot` (a figure-level function with similar flexibility) or `histplot` (an axes-level function for histograms).\n",
            "\n"
          ],
          "name": "stderr"
        },
        {
          "output_type": "execute_result",
          "data": {
            "text/plain": [
              "<matplotlib.axes._subplots.AxesSubplot at 0x7f318de9ef90>"
            ]
          },
          "metadata": {
            "tags": []
          },
          "execution_count": 29
        },
        {
          "output_type": "display_data",
          "data": {
            "image/png": "[encoded data removed]",
            "text/plain": [
              "<Figure size 432x288 with 1 Axes>"
            ]
          },
          "metadata": {
            "tags": [],
            "needs_background": "light"
          }
        }
      ]
    },
    {
      "cell_type": "markdown",
      "metadata": {
        "id": "jQcuqLKiFr39"
      },
      "source": [
        "**Predict on the new data** "
      ],
      "id": "jQcuqLKiFr39"
    },
    {
      "cell_type": "code",
      "metadata": {
        "id": "LdvyuyzGnubi",
        "colab": {
          "base_uri": "https://localhost:8080/",
          "height": 431
        },
        "outputId": "d7309f98-d499-4ac2-86c1-58b5e82fc39b"
      },
      "source": [
        "new_x_data = pd.concat([preprocess_numeric(test), preprocess_categorical(test)], axis = 1)\n",
        "#Predict on the new data\n",
        "y_pred_live = model.predict(new_x_data)\n",
        "\n",
        "#Create dataframe of predictions \n",
        "final = pd.DataFrame(y_pred_live, columns= [['price']], index= test['transaction_id'])\n",
        "final"
      ],
      "id": "LdvyuyzGnubi",
      "execution_count": null,
      "outputs": [
        {
          "output_type": "execute_result",
          "data": {
            "text/html": [
              "<div>\n",
              "<style scoped>\n",
              "    .dataframe tbody tr th:only-of-type {\n",
              "        vertical-align: middle;\n",
              "    }\n",
              "\n",
              "    .dataframe tbody tr th {\n",
              "        vertical-align: top;\n",
              "    }\n",
              "\n",
              "    .dataframe thead tr th {\n",
              "        text-align: left;\n",
              "    }\n",
              "\n",
              "    .dataframe thead tr:last-of-type th {\n",
              "        text-align: right;\n",
              "    }\n",
              "</style>\n",
              "<table border=\"1\" class=\"dataframe\">\n",
              "  <thead>\n",
              "    <tr>\n",
              "      <th></th>\n",
              "      <th>price</th>\n",
              "    </tr>\n",
              "    <tr>\n",
              "      <th>transaction_id</th>\n",
              "      <th></th>\n",
              "    </tr>\n",
              "  </thead>\n",
              "  <tbody>\n",
              "    <tr>\n",
              "      <th>{1C649D8A-9AF8-436D-913D-774771F060B7}</th>\n",
              "      <td>6.490240e+05</td>\n",
              "    </tr>\n",
              "    <tr>\n",
              "      <th>{25EA59FA-1CA3-4D50-E050-A8C0630562D0}</th>\n",
              "      <td>5.947379e+05</td>\n",
              "    </tr>\n",
              "    <tr>\n",
              "      <th>{2FD36066-1996-4BF8-E050-A8C0620562B1}</th>\n",
              "      <td>8.195008e+05</td>\n",
              "    </tr>\n",
              "    <tr>\n",
              "      <th>{4DEE9D4C-FC4C-465F-B4ED-AA4986272539}</th>\n",
              "      <td>8.232090e+05</td>\n",
              "    </tr>\n",
              "    <tr>\n",
              "      <th>{D55AEC5F-B3B5-40F8-A69C-CE7FA28250EA}</th>\n",
              "      <td>1.665503e+06</td>\n",
              "    </tr>\n",
              "    <tr>\n",
              "      <th>...</th>\n",
              "      <td>...</td>\n",
              "    </tr>\n",
              "    <tr>\n",
              "      <th>{5B0E2E9F-57CB-411D-9676-6F9519F7EBAE}</th>\n",
              "      <td>1.668346e+06</td>\n",
              "    </tr>\n",
              "    <tr>\n",
              "      <th>{545853A0-C6FE-4A21-AB19-4B6A8222F6B0}</th>\n",
              "      <td>8.413494e+05</td>\n",
              "    </tr>\n",
              "    <tr>\n",
              "      <th>{241A4A53-CFA6-706B-E050-A8C06205638B}</th>\n",
              "      <td>2.140578e+05</td>\n",
              "    </tr>\n",
              "    <tr>\n",
              "      <th>{53C065A3-4EF2-40D7-ACC2-78E1029CD889}</th>\n",
              "      <td>1.567508e+06</td>\n",
              "    </tr>\n",
              "    <tr>\n",
              "      <th>{25EA59FA-39EC-4D50-E050-A8C0630562D0}</th>\n",
              "      <td>6.731979e+05</td>\n",
              "    </tr>\n",
              "  </tbody>\n",
              "</table>\n",
              "<p>4774 rows × 1 columns</p>\n",
              "</div>"
            ],
            "text/plain": [
              "                                               price\n",
              "transaction_id                                      \n",
              "{1C649D8A-9AF8-436D-913D-774771F060B7}  6.490240e+05\n",
              "{25EA59FA-1CA3-4D50-E050-A8C0630562D0}  5.947379e+05\n",
              "{2FD36066-1996-4BF8-E050-A8C0620562B1}  8.195008e+05\n",
              "{4DEE9D4C-FC4C-465F-B4ED-AA4986272539}  8.232090e+05\n",
              "{D55AEC5F-B3B5-40F8-A69C-CE7FA28250EA}  1.665503e+06\n",
              "...                                              ...\n",
              "{5B0E2E9F-57CB-411D-9676-6F9519F7EBAE}  1.668346e+06\n",
              "{545853A0-C6FE-4A21-AB19-4B6A8222F6B0}  8.413494e+05\n",
              "{241A4A53-CFA6-706B-E050-A8C06205638B}  2.140578e+05\n",
              "{53C065A3-4EF2-40D7-ACC2-78E1029CD889}  1.567508e+06\n",
              "{25EA59FA-39EC-4D50-E050-A8C0630562D0}  6.731979e+05\n",
              "\n",
              "[4774 rows x 1 columns]"
            ]
          },
          "metadata": {
            "tags": []
          },
          "execution_count": 30
        }
      ]
    },
    {
      "cell_type": "markdown",
      "metadata": {
        "id": "intended-clearance"
      },
      "source": [
        "## Further work\n",
        "\n",
        "This is a very time-constrained setting and we know how much time model development takes. Having a better idea of challenges in our domain, how would you tackle this problem given more time, more data rows (all of UK) and more columns (additional datasets).\n",
        "\n",
        "**Question 4:** How would you proceed given another 6 weeks? *(helper questions: What model classes would you expect to perform well? What other data would you consider? Would you break the challenge into multiple simpler problems? If so, how?)*"
      ],
      "id": "intended-clearance"
    },
    {
      "cell_type": "markdown",
      "metadata": {
        "id": "mZ2o0OWnaP2J"
      },
      "source": [
        "**Question 4** \\\\\n",
        "Given some more time, I would love to explore further the EDA stage of the ML lifecycle. Additionally I would look at using the plotly function to figure out specific zones of the data which have high corrlelations to specific prices, and bin the long and latititude data into zones to feed into the model. \n",
        "\n",
        "Additionally, I would love to play around with the optimisation of both my XGboost and neural network algrithms as I am not convinced that they are as accurate as they could potentially be. \\\\\n",
        "\n",
        "I would also like to look into normalising the prices were previously saved at by using some extra data of house prices over time, and therefore use that to generate a figure for the normalised value of the house at the last sale which I think could prove a very useful metric. \\\\\n",
        "\n",
        "I already broke the problem into the stages of EDA, feature engineering, model training and optimisation before inferance. I think this as a general lifecycle works well, but more emphisis to some areas would have proved useful in a longer time frame. "
      ],
      "id": "mZ2o0OWnaP2J"
    }
  ]
}